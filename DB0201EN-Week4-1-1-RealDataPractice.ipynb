{
  "nbformat": 4,
  "nbformat_minor": 0,
  "metadata": {
    "kernelspec": {
      "display_name": "Python 3",
      "language": "python",
      "name": "python3"
    },
    "language_info": {
      "codemirror_mode": {
        "name": "ipython",
        "version": 3
      },
      "file_extension": ".py",
      "mimetype": "text/x-python",
      "name": "python",
      "nbconvert_exporter": "python",
      "pygments_lexer": "ipython3",
      "version": "3.7.6"
    },
    "colab": {
      "name": "DB0201EN-Week4-1-1-RealDataPractice.ipynb",
      "provenance": [],
      "include_colab_link": true
    }
  },
  "cells": [
    {
      "cell_type": "markdown",
      "metadata": {
        "id": "view-in-github",
        "colab_type": "text"
      },
      "source": [
        "<a href=\"https://colab.research.google.com/github/mjalalimanesh/IBM-SQL-DB2-Course/blob/main/DB0201EN-Week4-1-1-RealDataPractice.ipynb\" target=\"_parent\"><img src=\"https://colab.research.google.com/assets/colab-badge.svg\" alt=\"Open In Colab\"/></a>"
      ]
    },
    {
      "cell_type": "markdown",
      "metadata": {
        "id": "OyeUWBiVMgfg"
      },
      "source": [
        "<center>\n",
        "    <img src=\"https://s3-api.us-geo.objectstorage.softlayer.net/cf-courses-data/CognitiveClass/Logos/organization_logo/organization_logo.png\" width=\"300\" alt=\"cognitiveclass.ai logo\"  />\n",
        "</center>\n",
        "\n",
        "# Working with a real world data-set using SQL and Python\n",
        "\n",
        "Estaimted time needed: **30** minutes\n",
        "\n",
        "## Objectives\n",
        "\n",
        "After complting this lab you will be able to:\n",
        "\n",
        "-   Understand the dataset for Chicago Public School level performance\n",
        "-   Store the dataset in an Db2 database on IBM Cloud instance\n",
        "-   Retrieve metadata about tables and columns and query data from mixed case columns\n",
        "-   Solve example problems to practice your SQL skills including using built-in database functions\n"
      ]
    },
    {
      "cell_type": "markdown",
      "metadata": {
        "id": "3an0HAU2Mgfj"
      },
      "source": [
        "## Chicago Public Schools - Progress Report Cards (2011-2012)\n",
        "\n",
        "The city of Chicago released a dataset showing all school level performance data used to create School Report Cards for the 2011-2012 school year. The dataset is available from the Chicago Data Portal: [https://data.cityofchicago.org/Education/Chicago-Public-Schools-Progress-Report-Cards-2011-/9xs2-f89t](https://data.cityofchicago.org/Education/Chicago-Public-Schools-Progress-Report-Cards-2011-/9xs2-f89t?cm_mmc=Email_Newsletter-_-Developer_Ed%2BTech-_-WW_WW-_-SkillsNetwork-Courses-IBMDeveloperSkillsNetwork-DB0201EN-SkillsNetwork-20127838&cm_mmca1=000026UJ&cm_mmca2=10006555&cm_mmca3=M12345678&cvosrc=email.Newsletter.M12345678&cvo_campaign=000026UJ&cm_mmc=Email_Newsletter-_-Developer_Ed%2BTech-_-WW_WW-_-SkillsNetwork-Courses-IBMDeveloperSkillsNetwork-DB0201EN-SkillsNetwork-20127838&cm_mmca1=000026UJ&cm_mmca2=10006555&cm_mmca3=M12345678&cvosrc=email.Newsletter.M12345678&cvo_campaign=000026UJ)\n",
        "\n",
        "This dataset includes a large number of metrics. Start by familiarizing yourself with the types of metrics in the database: [https://data.cityofchicago.org/api/assets/AAD41A13-BE8A-4E67-B1F5-86E711E09D5F?download=true](https://data.cityofchicago.org/api/assets/AAD41A13-BE8A-4E67-B1F5-86E711E09D5F?download=true&cm_mmc=Email_Newsletter-_-Developer_Ed%2BTech-_-WW_WW-_-SkillsNetwork-Courses-IBMDeveloperSkillsNetwork-DB0201EN-SkillsNetwork-20127838&cm_mmca1=000026UJ&cm_mmca2=10006555&cm_mmca3=M12345678&cvosrc=email.Newsletter.M12345678&cvo_campaign=000026UJ)\n",
        "\n",
        "**NOTE**: \n",
        "\n",
        "Do not download the dataset directly from City of Chicago portal. Instead download a static copy which is a more database friendly version from this <a href=\"https://cf-courses-data.s3.us.cloud-object-storage.appdomain.cloud/IBMDeveloperSkillsNetwork-DB0201EN-SkillsNetwork/labs/FinalModule_edX/data/Chicago_Public_Schools_-_Progress_Report_Cards__2011-2012-v3.csv\">link</a>.\n",
        "\n",
        "Now review some of its contents.\n"
      ]
    },
    {
      "cell_type": "markdown",
      "metadata": {
        "id": "vHTC7-rXMgfn"
      },
      "source": [
        "### Store the dataset in a Table\n",
        "\n",
        "In many cases the dataset to be analyzed is available as a .CSV (comma separated values) file, perhaps on the internet. To analyze the data using SQL, it first needs to be stored in the database.\n",
        "\n",
        "While it is easier to read the dataset into a Pandas dataframe and then PERSIST it into the database as we saw in the previous lab, it results in mapping to default datatypes which may not be optimal for SQL querying. For example a long textual field may map to a CLOB instead of a VARCHAR. \n",
        "\n",
        "Therefore, **it is highly recommended to manually load the table using the database console LOAD tool, as indicated in Week 2 Lab 1 Part II**. The only difference with that lab is that in Step 5 of the instructions you will need to click on create \"(+) New Table\" and specify the name of the table you want to create and then click \"Next\". \n",
        "\n",
        "##### Now open the Db2 console, open the LOAD tool, Select / Drag the .CSV file for the CHICAGO PUBLIC SCHOOLS dataset and load the dataset into a new table called **SCHOOLS**.\n",
        "\n",
        "<a href=\"https://cognitiveclass.ai\"><img src = \"https://ibm.box.com/shared/static/uc4xjh1uxcc78ks1i18v668simioz4es.jpg\"></a>\n"
      ]
    },
    {
      "cell_type": "code",
      "metadata": {
        "id": "Qk9TNumCdj1D",
        "outputId": "1b02222c-5433-4a6e-bfd3-63a0d2e63fae",
        "colab": {
          "base_uri": "https://localhost:8080/"
        }
      },
      "source": [
        "!pip install ibm_db\n",
        "!pip install ibm_db_sa"
      ],
      "execution_count": 1,
      "outputs": [
        {
          "output_type": "stream",
          "text": [
            "Collecting ibm_db\n",
            "\u001b[?25l  Downloading https://files.pythonhosted.org/packages/6f/4e/48bf113d4f14b20a5008ea9f7784654041d8f7730c1081b370f569d80c93/ibm_db-3.0.2.tar.gz (718kB)\n",
            "\r\u001b[K     |▌                               | 10kB 14.5MB/s eta 0:00:01\r\u001b[K     |█                               | 20kB 2.1MB/s eta 0:00:01\r\u001b[K     |█▍                              | 30kB 2.7MB/s eta 0:00:01\r\u001b[K     |█▉                              | 40kB 3.0MB/s eta 0:00:01\r\u001b[K     |██▎                             | 51kB 2.5MB/s eta 0:00:01\r\u001b[K     |██▊                             | 61kB 2.8MB/s eta 0:00:01\r\u001b[K     |███▏                            | 71kB 3.0MB/s eta 0:00:01\r\u001b[K     |███▋                            | 81kB 3.3MB/s eta 0:00:01\r\u001b[K     |████                            | 92kB 3.6MB/s eta 0:00:01\r\u001b[K     |████▋                           | 102kB 3.4MB/s eta 0:00:01\r\u001b[K     |█████                           | 112kB 3.4MB/s eta 0:00:01\r\u001b[K     |█████▌                          | 122kB 3.4MB/s eta 0:00:01\r\u001b[K     |██████                          | 133kB 3.4MB/s eta 0:00:01\r\u001b[K     |██████▍                         | 143kB 3.4MB/s eta 0:00:01\r\u001b[K     |██████▉                         | 153kB 3.4MB/s eta 0:00:01\r\u001b[K     |███████▎                        | 163kB 3.4MB/s eta 0:00:01\r\u001b[K     |███████▊                        | 174kB 3.4MB/s eta 0:00:01\r\u001b[K     |████████▏                       | 184kB 3.4MB/s eta 0:00:01\r\u001b[K     |████████▋                       | 194kB 3.4MB/s eta 0:00:01\r\u001b[K     |█████████▏                      | 204kB 3.4MB/s eta 0:00:01\r\u001b[K     |█████████▋                      | 215kB 3.4MB/s eta 0:00:01\r\u001b[K     |██████████                      | 225kB 3.4MB/s eta 0:00:01\r\u001b[K     |██████████▌                     | 235kB 3.4MB/s eta 0:00:01\r\u001b[K     |███████████                     | 245kB 3.4MB/s eta 0:00:01\r\u001b[K     |███████████▍                    | 256kB 3.4MB/s eta 0:00:01\r\u001b[K     |███████████▉                    | 266kB 3.4MB/s eta 0:00:01\r\u001b[K     |████████████▎                   | 276kB 3.4MB/s eta 0:00:01\r\u001b[K     |████████████▊                   | 286kB 3.4MB/s eta 0:00:01\r\u001b[K     |█████████████▎                  | 296kB 3.4MB/s eta 0:00:01\r\u001b[K     |█████████████▊                  | 307kB 3.4MB/s eta 0:00:01\r\u001b[K     |██████████████▏                 | 317kB 3.4MB/s eta 0:00:01\r\u001b[K     |██████████████▋                 | 327kB 3.4MB/s eta 0:00:01\r\u001b[K     |███████████████                 | 337kB 3.4MB/s eta 0:00:01\r\u001b[K     |███████████████▌                | 348kB 3.4MB/s eta 0:00:01\r\u001b[K     |████████████████                | 358kB 3.4MB/s eta 0:00:01\r\u001b[K     |████████████████▍               | 368kB 3.4MB/s eta 0:00:01\r\u001b[K     |████████████████▉               | 378kB 3.4MB/s eta 0:00:01\r\u001b[K     |█████████████████▎              | 389kB 3.4MB/s eta 0:00:01\r\u001b[K     |█████████████████▉              | 399kB 3.4MB/s eta 0:00:01\r\u001b[K     |██████████████████▎             | 409kB 3.4MB/s eta 0:00:01\r\u001b[K     |██████████████████▊             | 419kB 3.4MB/s eta 0:00:01\r\u001b[K     |███████████████████▏            | 430kB 3.4MB/s eta 0:00:01\r\u001b[K     |███████████████████▋            | 440kB 3.4MB/s eta 0:00:01\r\u001b[K     |████████████████████            | 450kB 3.4MB/s eta 0:00:01\r\u001b[K     |████████████████████▌           | 460kB 3.4MB/s eta 0:00:01\r\u001b[K     |█████████████████████           | 471kB 3.4MB/s eta 0:00:01\r\u001b[K     |█████████████████████▍          | 481kB 3.4MB/s eta 0:00:01\r\u001b[K     |██████████████████████          | 491kB 3.4MB/s eta 0:00:01\r\u001b[K     |██████████████████████▍         | 501kB 3.4MB/s eta 0:00:01\r\u001b[K     |██████████████████████▉         | 512kB 3.4MB/s eta 0:00:01\r\u001b[K     |███████████████████████▎        | 522kB 3.4MB/s eta 0:00:01\r\u001b[K     |███████████████████████▊        | 532kB 3.4MB/s eta 0:00:01\r\u001b[K     |████████████████████████▏       | 542kB 3.4MB/s eta 0:00:01\r\u001b[K     |████████████████████████▋       | 552kB 3.4MB/s eta 0:00:01\r\u001b[K     |█████████████████████████       | 563kB 3.4MB/s eta 0:00:01\r\u001b[K     |█████████████████████████▌      | 573kB 3.4MB/s eta 0:00:01\r\u001b[K     |██████████████████████████      | 583kB 3.4MB/s eta 0:00:01\r\u001b[K     |██████████████████████████▌     | 593kB 3.4MB/s eta 0:00:01\r\u001b[K     |███████████████████████████     | 604kB 3.4MB/s eta 0:00:01\r\u001b[K     |███████████████████████████▍    | 614kB 3.4MB/s eta 0:00:01\r\u001b[K     |███████████████████████████▉    | 624kB 3.4MB/s eta 0:00:01\r\u001b[K     |████████████████████████████▎   | 634kB 3.4MB/s eta 0:00:01\r\u001b[K     |████████████████████████████▊   | 645kB 3.4MB/s eta 0:00:01\r\u001b[K     |█████████████████████████████▏  | 655kB 3.4MB/s eta 0:00:01\r\u001b[K     |█████████████████████████████▋  | 665kB 3.4MB/s eta 0:00:01\r\u001b[K     |██████████████████████████████  | 675kB 3.4MB/s eta 0:00:01\r\u001b[K     |██████████████████████████████▋ | 686kB 3.4MB/s eta 0:00:01\r\u001b[K     |███████████████████████████████ | 696kB 3.4MB/s eta 0:00:01\r\u001b[K     |███████████████████████████████▌| 706kB 3.4MB/s eta 0:00:01\r\u001b[K     |████████████████████████████████| 716kB 3.4MB/s eta 0:00:01\r\u001b[K     |████████████████████████████████| 727kB 3.4MB/s \n",
            "\u001b[?25hBuilding wheels for collected packages: ibm-db\n",
            "  Building wheel for ibm-db (setup.py) ... \u001b[?25l\u001b[?25hdone\n",
            "  Created wheel for ibm-db: filename=ibm_db-3.0.2-cp36-cp36m-linux_x86_64.whl size=38977342 sha256=327a514fc76bc58b6a0568c3b679420917dd997564c7b29dd08457659848757f\n",
            "  Stored in directory: /root/.cache/pip/wheels/84/64/42/10b217b545e8085b72160632c61bfa0909f661dad89326a956\n",
            "Successfully built ibm-db\n",
            "Installing collected packages: ibm-db\n",
            "Successfully installed ibm-db-3.0.2\n",
            "Collecting ibm_db_sa\n",
            "  Downloading https://files.pythonhosted.org/packages/a4/7f/8301cafde62a8a86f7ca9b5b64663431900217742b799797739760c5b9ea/ibm_db_sa-0.3.5.tar.gz\n",
            "Requirement already satisfied: sqlalchemy>=0.7.3 in /usr/local/lib/python3.6/dist-packages (from ibm_db_sa) (1.3.20)\n",
            "Requirement already satisfied: ibm_db>=2.0.0 in /usr/local/lib/python3.6/dist-packages (from ibm_db_sa) (3.0.2)\n",
            "Building wheels for collected packages: ibm-db-sa\n",
            "  Building wheel for ibm-db-sa (setup.py) ... \u001b[?25l\u001b[?25hdone\n",
            "  Created wheel for ibm-db-sa: filename=ibm_db_sa-0.3.5-cp36-none-any.whl size=28000 sha256=ee6e9fb3df195ebec03b9faf6d25d8fb51def4ec36830fb275295f3e1e923ef1\n",
            "  Stored in directory: /root/.cache/pip/wheels/7f/0b/94/ecb455e6d4042de08ee2f1b623a1e76d30e4e46f526d3763f3\n",
            "Successfully built ibm-db-sa\n",
            "Installing collected packages: ibm-db-sa\n",
            "Successfully installed ibm-db-sa-0.3.5\n"
          ],
          "name": "stdout"
        }
      ]
    },
    {
      "cell_type": "code",
      "metadata": {
        "id": "srOQtWH5dkWk"
      },
      "source": [
        "import ibm_db\n",
        "import ibm_db_sa"
      ],
      "execution_count": 1,
      "outputs": []
    },
    {
      "cell_type": "markdown",
      "metadata": {
        "id": "i3B-6FZtMgfo"
      },
      "source": [
        "### Connect to the database\n",
        "\n",
        "Let us now load the ipython-sql  extension and establish a connection with the database\n"
      ]
    },
    {
      "cell_type": "code",
      "metadata": {
        "id": "-LzajyfyMgfr"
      },
      "source": [
        "%load_ext sql"
      ],
      "execution_count": 2,
      "outputs": []
    },
    {
      "cell_type": "code",
      "metadata": {
        "id": "9vANr_aRMggF",
        "outputId": "fbdb9fa3-731e-4462-dc63-67263b63427f",
        "colab": {
          "base_uri": "https://localhost:8080/",
          "height": 35
        }
      },
      "source": [
        "# Enter the connection string for your Db2 on Cloud database instance below\n",
        "# %sql ibm_db_sa://my-username:my-password@my-hostname:my-port/my-db-name\n",
        "%sql ibm_db_sa://bxd83998:9j6ngwcwqn0v8%40vs@dashdb-txn-sbox-yp-dal09-08.services.dal.bluemix.net:50000/BLUDB"
      ],
      "execution_count": 3,
      "outputs": [
        {
          "output_type": "execute_result",
          "data": {
            "application/vnd.google.colaboratory.intrinsic+json": {
              "type": "string"
            },
            "text/plain": [
              "'Connected: bxd83998@BLUDB'"
            ]
          },
          "metadata": {
            "tags": []
          },
          "execution_count": 3
        }
      ]
    },
    {
      "cell_type": "markdown",
      "metadata": {
        "id": "TcTIZRWVMggP"
      },
      "source": [
        "### Query the database system catalog to retrieve table metadata\n",
        "\n",
        "##### You can verify that the table creation was successful by retrieving the list of all tables in your schema and checking whether the SCHOOLS table was created\n"
      ]
    },
    {
      "cell_type": "code",
      "metadata": {
        "id": "qyA_9GvgMggZ",
        "outputId": "13618720-0698-4f76-8c42-c8619225d650",
        "colab": {
          "base_uri": "https://localhost:8080/",
          "height": 284
        }
      },
      "source": [
        "# type in your query to retrieve list of all tables in the database for your db2 schema (username)\n",
        "%sql select TABSCHEMA, TABNAME, CREATE_TIME from SYSCAT.TABLES where TABSCHEMA='BXD83998'\n"
      ],
      "execution_count": 8,
      "outputs": [
        {
          "output_type": "stream",
          "text": [
            " * ibm_db_sa://bxd83998:***@dashdb-txn-sbox-yp-dal09-08.services.dal.bluemix.net:50000/BLUDB\n",
            "Done.\n"
          ],
          "name": "stdout"
        },
        {
          "output_type": "execute_result",
          "data": {
            "text/html": [
              "<table>\n",
              "    <tr>\n",
              "        <th>tabschema</th>\n",
              "        <th>tabname</th>\n",
              "        <th>create_time</th>\n",
              "    </tr>\n",
              "    <tr>\n",
              "        <td>BXD83998</td>\n",
              "        <td>CENSUS_DATA</td>\n",
              "        <td>2020-11-09 18:24:28.228846</td>\n",
              "    </tr>\n",
              "    <tr>\n",
              "        <td>BXD83998</td>\n",
              "        <td>CHICAGO_PUBLIC_SCHOOLS</td>\n",
              "        <td>2020-11-10 07:58:39.843671</td>\n",
              "    </tr>\n",
              "    <tr>\n",
              "        <td>BXD83998</td>\n",
              "        <td>CHICAGO_CRIME_DATA</td>\n",
              "        <td>2020-11-10 08:00:36.708883</td>\n",
              "    </tr>\n",
              "    <tr>\n",
              "        <td>BXD83998</td>\n",
              "        <td>INSTRUCTOR</td>\n",
              "        <td>2020-11-10 08:15:32.742185</td>\n",
              "    </tr>\n",
              "    <tr>\n",
              "        <td>BXD83998</td>\n",
              "        <td>INTERNATIONAL_STUDENT_TEST_SCORES</td>\n",
              "        <td>2020-11-10 08:54:09.841396</td>\n",
              "    </tr>\n",
              "    <tr>\n",
              "        <td>BXD83998</td>\n",
              "        <td>CHICAGO_SOCIOECONOMIC_DATA</td>\n",
              "        <td>2020-11-10 09:09:47.406478</td>\n",
              "    </tr>\n",
              "    <tr>\n",
              "        <td>BXD83998</td>\n",
              "        <td>EMPLOYEES</td>\n",
              "        <td>2020-10-16 17:38:33.256260</td>\n",
              "    </tr>\n",
              "    <tr>\n",
              "        <td>BXD83998</td>\n",
              "        <td>JOB_HISTORY</td>\n",
              "        <td>2020-10-16 17:38:33.378226</td>\n",
              "    </tr>\n",
              "    <tr>\n",
              "        <td>BXD83998</td>\n",
              "        <td>JOBS</td>\n",
              "        <td>2020-10-16 17:38:33.538166</td>\n",
              "    </tr>\n",
              "    <tr>\n",
              "        <td>BXD83998</td>\n",
              "        <td>DEPARTMENTS</td>\n",
              "        <td>2020-10-16 17:38:33.652184</td>\n",
              "    </tr>\n",
              "    <tr>\n",
              "        <td>BXD83998</td>\n",
              "        <td>LOCATIONS</td>\n",
              "        <td>2020-10-16 17:38:33.768138</td>\n",
              "    </tr>\n",
              "    <tr>\n",
              "        <td>BXD83998</td>\n",
              "        <td>PETSALE</td>\n",
              "        <td>2020-10-26 17:42:53.071270</td>\n",
              "    </tr>\n",
              "</table>"
            ],
            "text/plain": [
              "[('BXD83998', 'CENSUS_DATA', datetime.datetime(2020, 11, 9, 18, 24, 28, 228846)),\n",
              " ('BXD83998', 'CHICAGO_PUBLIC_SCHOOLS', datetime.datetime(2020, 11, 10, 7, 58, 39, 843671)),\n",
              " ('BXD83998', 'CHICAGO_CRIME_DATA', datetime.datetime(2020, 11, 10, 8, 0, 36, 708883)),\n",
              " ('BXD83998', 'INSTRUCTOR', datetime.datetime(2020, 11, 10, 8, 15, 32, 742185)),\n",
              " ('BXD83998', 'INTERNATIONAL_STUDENT_TEST_SCORES', datetime.datetime(2020, 11, 10, 8, 54, 9, 841396)),\n",
              " ('BXD83998', 'CHICAGO_SOCIOECONOMIC_DATA', datetime.datetime(2020, 11, 10, 9, 9, 47, 406478)),\n",
              " ('BXD83998', 'EMPLOYEES', datetime.datetime(2020, 10, 16, 17, 38, 33, 256260)),\n",
              " ('BXD83998', 'JOB_HISTORY', datetime.datetime(2020, 10, 16, 17, 38, 33, 378226)),\n",
              " ('BXD83998', 'JOBS', datetime.datetime(2020, 10, 16, 17, 38, 33, 538166)),\n",
              " ('BXD83998', 'DEPARTMENTS', datetime.datetime(2020, 10, 16, 17, 38, 33, 652184)),\n",
              " ('BXD83998', 'LOCATIONS', datetime.datetime(2020, 10, 16, 17, 38, 33, 768138)),\n",
              " ('BXD83998', 'PETSALE', datetime.datetime(2020, 10, 26, 17, 42, 53, 71270))]"
            ]
          },
          "metadata": {
            "tags": []
          },
          "execution_count": 8
        }
      ]
    },
    {
      "cell_type": "code",
      "metadata": {
        "id": "QK8Yw7zphRob",
        "outputId": "0c17fa2c-a534-4987-d92f-42e8dc265072",
        "colab": {
          "base_uri": "https://localhost:8080/",
          "height": 284
        }
      },
      "source": [
        "\n",
        "# or, you can retrieve list of all tables where the schema name is not one of the system created ones:\n",
        "\n",
        "%sql select TABSCHEMA, TABNAME, CREATE_TIME from SYSCAT.TABLES \\\n",
        "      where TABSCHEMA not in ('SYSIBM', 'SYSCAT', 'SYSSTAT', 'SYSIBMADM', 'SYSTOOLS', 'SYSPUBLIC')\n",
        "      "
      ],
      "execution_count": 5,
      "outputs": [
        {
          "output_type": "stream",
          "text": [
            " * ibm_db_sa://bxd83998:***@dashdb-txn-sbox-yp-dal09-08.services.dal.bluemix.net:50000/BLUDB\n",
            "Done.\n"
          ],
          "name": "stdout"
        },
        {
          "output_type": "execute_result",
          "data": {
            "text/html": [
              "<table>\n",
              "    <tr>\n",
              "        <th>tabschema</th>\n",
              "        <th>tabname</th>\n",
              "        <th>create_time</th>\n",
              "    </tr>\n",
              "    <tr>\n",
              "        <td>BXD83998</td>\n",
              "        <td>CENSUS_DATA</td>\n",
              "        <td>2020-11-09 18:24:28.228846</td>\n",
              "    </tr>\n",
              "    <tr>\n",
              "        <td>BXD83998</td>\n",
              "        <td>CHICAGO_PUBLIC_SCHOOLS</td>\n",
              "        <td>2020-11-10 07:58:39.843671</td>\n",
              "    </tr>\n",
              "    <tr>\n",
              "        <td>BXD83998</td>\n",
              "        <td>CHICAGO_CRIME_DATA</td>\n",
              "        <td>2020-11-10 08:00:36.708883</td>\n",
              "    </tr>\n",
              "    <tr>\n",
              "        <td>BXD83998</td>\n",
              "        <td>INSTRUCTOR</td>\n",
              "        <td>2020-11-10 08:15:32.742185</td>\n",
              "    </tr>\n",
              "    <tr>\n",
              "        <td>BXD83998</td>\n",
              "        <td>INTERNATIONAL_STUDENT_TEST_SCORES</td>\n",
              "        <td>2020-11-10 08:54:09.841396</td>\n",
              "    </tr>\n",
              "    <tr>\n",
              "        <td>BXD83998</td>\n",
              "        <td>CHICAGO_SOCIOECONOMIC_DATA</td>\n",
              "        <td>2020-11-10 09:09:47.406478</td>\n",
              "    </tr>\n",
              "    <tr>\n",
              "        <td>BXD83998</td>\n",
              "        <td>EMPLOYEES</td>\n",
              "        <td>2020-10-16 17:38:33.256260</td>\n",
              "    </tr>\n",
              "    <tr>\n",
              "        <td>BXD83998</td>\n",
              "        <td>JOB_HISTORY</td>\n",
              "        <td>2020-10-16 17:38:33.378226</td>\n",
              "    </tr>\n",
              "    <tr>\n",
              "        <td>BXD83998</td>\n",
              "        <td>JOBS</td>\n",
              "        <td>2020-10-16 17:38:33.538166</td>\n",
              "    </tr>\n",
              "    <tr>\n",
              "        <td>BXD83998</td>\n",
              "        <td>DEPARTMENTS</td>\n",
              "        <td>2020-10-16 17:38:33.652184</td>\n",
              "    </tr>\n",
              "    <tr>\n",
              "        <td>BXD83998</td>\n",
              "        <td>LOCATIONS</td>\n",
              "        <td>2020-10-16 17:38:33.768138</td>\n",
              "    </tr>\n",
              "    <tr>\n",
              "        <td>BXD83998</td>\n",
              "        <td>PETSALE</td>\n",
              "        <td>2020-10-26 17:42:53.071270</td>\n",
              "    </tr>\n",
              "</table>"
            ],
            "text/plain": [
              "[('BXD83998', 'CENSUS_DATA', datetime.datetime(2020, 11, 9, 18, 24, 28, 228846)),\n",
              " ('BXD83998', 'CHICAGO_PUBLIC_SCHOOLS', datetime.datetime(2020, 11, 10, 7, 58, 39, 843671)),\n",
              " ('BXD83998', 'CHICAGO_CRIME_DATA', datetime.datetime(2020, 11, 10, 8, 0, 36, 708883)),\n",
              " ('BXD83998', 'INSTRUCTOR', datetime.datetime(2020, 11, 10, 8, 15, 32, 742185)),\n",
              " ('BXD83998', 'INTERNATIONAL_STUDENT_TEST_SCORES', datetime.datetime(2020, 11, 10, 8, 54, 9, 841396)),\n",
              " ('BXD83998', 'CHICAGO_SOCIOECONOMIC_DATA', datetime.datetime(2020, 11, 10, 9, 9, 47, 406478)),\n",
              " ('BXD83998', 'EMPLOYEES', datetime.datetime(2020, 10, 16, 17, 38, 33, 256260)),\n",
              " ('BXD83998', 'JOB_HISTORY', datetime.datetime(2020, 10, 16, 17, 38, 33, 378226)),\n",
              " ('BXD83998', 'JOBS', datetime.datetime(2020, 10, 16, 17, 38, 33, 538166)),\n",
              " ('BXD83998', 'DEPARTMENTS', datetime.datetime(2020, 10, 16, 17, 38, 33, 652184)),\n",
              " ('BXD83998', 'LOCATIONS', datetime.datetime(2020, 10, 16, 17, 38, 33, 768138)),\n",
              " ('BXD83998', 'PETSALE', datetime.datetime(2020, 10, 26, 17, 42, 53, 71270))]"
            ]
          },
          "metadata": {
            "tags": []
          },
          "execution_count": 5
        }
      ]
    },
    {
      "cell_type": "code",
      "metadata": {
        "id": "tM84SVsIhTbB",
        "outputId": "28cc9f0b-1b7c-492d-8c89-3d1e396be2b7",
        "colab": {
          "base_uri": "https://localhost:8080/",
          "height": 125
        }
      },
      "source": [
        "\n",
        "# or, just query for a specifc table that you want to verify exists in the database\n",
        "%sql select * from SYSCAT.TABLES where TABNAME = 'CHICAGO_PUBLIC_SCHOOLS'\n"
      ],
      "execution_count": 10,
      "outputs": [
        {
          "output_type": "stream",
          "text": [
            " * ibm_db_sa://bxd83998:***@dashdb-txn-sbox-yp-dal09-08.services.dal.bluemix.net:50000/BLUDB\n",
            "Done.\n"
          ],
          "name": "stdout"
        },
        {
          "output_type": "execute_result",
          "data": {
            "text/html": [
              "<table>\n",
              "    <tr>\n",
              "        <th>tabschema</th>\n",
              "        <th>tabname</th>\n",
              "        <th>owner</th>\n",
              "        <th>ownertype</th>\n",
              "        <th>TYPE</th>\n",
              "        <th>status</th>\n",
              "        <th>base_tabschema</th>\n",
              "        <th>base_tabname</th>\n",
              "        <th>rowtypeschema</th>\n",
              "        <th>rowtypename</th>\n",
              "        <th>create_time</th>\n",
              "        <th>alter_time</th>\n",
              "        <th>invalidate_time</th>\n",
              "        <th>stats_time</th>\n",
              "        <th>colcount</th>\n",
              "        <th>tableid</th>\n",
              "        <th>tbspaceid</th>\n",
              "        <th>card</th>\n",
              "        <th>npages</th>\n",
              "        <th>mpages</th>\n",
              "        <th>fpages</th>\n",
              "        <th>npartitions</th>\n",
              "        <th>nfiles</th>\n",
              "        <th>tablesize</th>\n",
              "        <th>overflow</th>\n",
              "        <th>tbspace</th>\n",
              "        <th>index_tbspace</th>\n",
              "        <th>long_tbspace</th>\n",
              "        <th>parents</th>\n",
              "        <th>children</th>\n",
              "        <th>selfrefs</th>\n",
              "        <th>keycolumns</th>\n",
              "        <th>keyindexid</th>\n",
              "        <th>keyunique</th>\n",
              "        <th>checkcount</th>\n",
              "        <th>datacapture</th>\n",
              "        <th>const_checked</th>\n",
              "        <th>pmap_id</th>\n",
              "        <th>partition_mode</th>\n",
              "        <th>log_attribute</th>\n",
              "        <th>pctfree</th>\n",
              "        <th>append_mode</th>\n",
              "        <th>REFRESH</th>\n",
              "        <th>refresh_time</th>\n",
              "        <th>LOCKSIZE</th>\n",
              "        <th>VOLATILE</th>\n",
              "        <th>row_format</th>\n",
              "        <th>property</th>\n",
              "        <th>statistics_profile</th>\n",
              "        <th>compression</th>\n",
              "        <th>rowcompmode</th>\n",
              "        <th>access_mode</th>\n",
              "        <th>clustered</th>\n",
              "        <th>active_blocks</th>\n",
              "        <th>droprule</th>\n",
              "        <th>maxfreespacesearch</th>\n",
              "        <th>avgcompressedrowsize</th>\n",
              "        <th>avgrowcompressionratio</th>\n",
              "        <th>avgrowsize</th>\n",
              "        <th>pctrowscompressed</th>\n",
              "        <th>logindexbuild</th>\n",
              "        <th>codepage</th>\n",
              "        <th>collationschema</th>\n",
              "        <th>collationname</th>\n",
              "        <th>collationschema_orderby</th>\n",
              "        <th>collationname_orderby</th>\n",
              "        <th>encoding_scheme</th>\n",
              "        <th>pctpagessaved</th>\n",
              "        <th>last_regen_time</th>\n",
              "        <th>secpolicyid</th>\n",
              "        <th>protectiongranularity</th>\n",
              "        <th>auditpolicyid</th>\n",
              "        <th>auditpolicyname</th>\n",
              "        <th>auditexceptionenabled</th>\n",
              "        <th>definer</th>\n",
              "        <th>oncommit</th>\n",
              "        <th>logged</th>\n",
              "        <th>onrollback</th>\n",
              "        <th>lastused</th>\n",
              "        <th>control</th>\n",
              "        <th>temporaltype</th>\n",
              "        <th>tableorg</th>\n",
              "        <th>extended_row_size</th>\n",
              "        <th>pctextendedrows</th>\n",
              "        <th>remarks</th>\n",
              "    </tr>\n",
              "    <tr>\n",
              "        <td>BXD83998</td>\n",
              "        <td>CHICAGO_PUBLIC_SCHOOLS</td>\n",
              "        <td>BXD83998</td>\n",
              "        <td>U</td>\n",
              "        <td>T</td>\n",
              "        <td>N</td>\n",
              "        <td>None</td>\n",
              "        <td>None</td>\n",
              "        <td>None</td>\n",
              "        <td>None</td>\n",
              "        <td>2020-11-10 07:58:39.843671</td>\n",
              "        <td>2020-11-10 07:58:39.843671</td>\n",
              "        <td>2020-11-10 07:58:39.843671</td>\n",
              "        <td>2020-11-10 08:07:51.921652</td>\n",
              "        <td>78</td>\n",
              "        <td>13</td>\n",
              "        <td>1143</td>\n",
              "        <td>566</td>\n",
              "        <td>15</td>\n",
              "        <td>0</td>\n",
              "        <td>16</td>\n",
              "        <td>-1</td>\n",
              "        <td>-1</td>\n",
              "        <td>-1</td>\n",
              "        <td>0</td>\n",
              "        <td>bxd83998space1</td>\n",
              "        <td>None</td>\n",
              "        <td>None</td>\n",
              "        <td>0</td>\n",
              "        <td>0</td>\n",
              "        <td>0</td>\n",
              "        <td>0</td>\n",
              "        <td>0</td>\n",
              "        <td>0</td>\n",
              "        <td>0</td>\n",
              "        <td>N</td>\n",
              "        <td>YYYYYYYYYYYYYYYYYYYYYYYYYYYYYYYY</td>\n",
              "        <td>1</td>\n",
              "        <td> </td>\n",
              "        <td>0</td>\n",
              "        <td>-1</td>\n",
              "        <td>N</td>\n",
              "        <td> </td>\n",
              "        <td>None</td>\n",
              "        <td>R</td>\n",
              "        <td> </td>\n",
              "        <td>N</td>\n",
              "        <td>&nbsp;&nbsp;&nbsp;&nbsp;&nbsp;&nbsp;&nbsp;&nbsp;&nbsp;&nbsp;&nbsp;&nbsp;&nbsp;&nbsp;&nbsp;&nbsp;&nbsp;&nbsp;&nbsp;&nbsp;&nbsp;&nbsp;&nbsp;&nbsp;&nbsp;&nbsp;&nbsp;&nbsp;&nbsp;&nbsp;&nbsp;&nbsp;</td>\n",
              "        <td>None</td>\n",
              "        <td>N</td>\n",
              "        <td> </td>\n",
              "        <td>F</td>\n",
              "        <td>None</td>\n",
              "        <td>0</td>\n",
              "        <td>N</td>\n",
              "        <td>999</td>\n",
              "        <td>0</td>\n",
              "        <td>0.0</td>\n",
              "        <td>844</td>\n",
              "        <td>0.0</td>\n",
              "        <td>None</td>\n",
              "        <td>1208</td>\n",
              "        <td>SYSIBM</td>\n",
              "        <td>IDENTITY</td>\n",
              "        <td>SYSIBM</td>\n",
              "        <td>IDENTITY</td>\n",
              "        <td> </td>\n",
              "        <td>0</td>\n",
              "        <td>2020-11-10 07:58:39.843671</td>\n",
              "        <td>0</td>\n",
              "        <td> </td>\n",
              "        <td>None</td>\n",
              "        <td>None</td>\n",
              "        <td>N</td>\n",
              "        <td>BXD83998</td>\n",
              "        <td> </td>\n",
              "        <td> </td>\n",
              "        <td> </td>\n",
              "        <td>2020-11-10</td>\n",
              "        <td> </td>\n",
              "        <td>N</td>\n",
              "        <td>R</td>\n",
              "        <td>N</td>\n",
              "        <td>-1.0</td>\n",
              "        <td>None</td>\n",
              "    </tr>\n",
              "</table>"
            ],
            "text/plain": [
              "[('BXD83998', 'CHICAGO_PUBLIC_SCHOOLS', 'BXD83998', 'U', 'T', 'N', None, None, None, None, datetime.datetime(2020, 11, 10, 7, 58, 39, 843671), datetime.datetime(2020, 11, 10, 7, 58, 39, 843671), datetime.datetime(2020, 11, 10, 7, 58, 39, 843671), datetime.datetime(2020, 11, 10, 8, 7, 51, 921652), 78, 13, 1143, 566, 15, 0, 16, -1, -1, -1, 0, 'bxd83998space1', None, None, 0, 0, 0, 0, 0, 0, 0, 'N', 'YYYYYYYYYYYYYYYYYYYYYYYYYYYYYYYY', 1, ' ', '0', -1, 'N', ' ', None, 'R', ' ', 'N', '                                ', None, 'N', ' ', 'F', None, 0, 'N', 999, 0, 0.0, 844, 0.0, None, 1208, 'SYSIBM', 'IDENTITY', 'SYSIBM', 'IDENTITY', ' ', 0, datetime.datetime(2020, 11, 10, 7, 58, 39, 843671), 0, ' ', None, None, 'N', 'BXD83998', ' ', ' ', ' ', datetime.date(2020, 11, 10), ' ', 'N', 'R', 'N', -1.0, None)]"
            ]
          },
          "metadata": {
            "tags": []
          },
          "execution_count": 10
        }
      ]
    },
    {
      "cell_type": "markdown",
      "metadata": {
        "id": "FWZ3e2_QMgg3"
      },
      "source": [
        "### Query the database system catalog to retrieve column metadata\n",
        "\n",
        "##### The SCHOOLS table contains a large number of columns. How many columns does this table have?\n"
      ]
    },
    {
      "cell_type": "code",
      "metadata": {
        "id": "ejTdUNUzMgg5",
        "outputId": "2214a861-a5db-4737-fda5-dac67daa7624",
        "colab": {
          "base_uri": "https://localhost:8080/",
          "height": 88
        }
      },
      "source": [
        "# type in your query to retrieve the number of columns in the SCHOOLS table\n",
        "%sql select count(*) from SYSCAT.COLUMNS where TABNAME = 'CHICAGO_PUBLIC_SCHOOLS'"
      ],
      "execution_count": 11,
      "outputs": [
        {
          "output_type": "stream",
          "text": [
            " * ibm_db_sa://bxd83998:***@dashdb-txn-sbox-yp-dal09-08.services.dal.bluemix.net:50000/BLUDB\n",
            "Done.\n"
          ],
          "name": "stdout"
        },
        {
          "output_type": "execute_result",
          "data": {
            "text/html": [
              "<table>\n",
              "    <tr>\n",
              "        <th>1</th>\n",
              "    </tr>\n",
              "    <tr>\n",
              "        <td>78</td>\n",
              "    </tr>\n",
              "</table>"
            ],
            "text/plain": [
              "[(Decimal('78'),)]"
            ]
          },
          "metadata": {
            "tags": []
          },
          "execution_count": 11
        }
      ]
    },
    {
      "cell_type": "markdown",
      "metadata": {
        "id": "iZ_tjNjyMghE"
      },
      "source": [
        "Now retrieve the the list of columns in SCHOOLS table and their column type (datatype) and length.\n"
      ]
    },
    {
      "cell_type": "code",
      "metadata": {
        "id": "beiDWn-aMghF",
        "outputId": "e1ea0889-c82d-49f3-99b0-0aeb49ea231c",
        "colab": {
          "base_uri": "https://localhost:8080/",
          "height": 1000
        }
      },
      "source": [
        "# type in your query to retrieve all column names in the SCHOOLS table along with their datatypes and length\n",
        "%sql select COLNAME, TYPENAME, LENGTH from SYSCAT.COLUMNS where TABNAME = 'CHICAGO_PUBLIC_SCHOOLS'"
      ],
      "execution_count": 13,
      "outputs": [
        {
          "output_type": "stream",
          "text": [
            " * ibm_db_sa://bxd83998:***@dashdb-txn-sbox-yp-dal09-08.services.dal.bluemix.net:50000/BLUDB\n",
            "Done.\n"
          ],
          "name": "stdout"
        },
        {
          "output_type": "execute_result",
          "data": {
            "text/html": [
              "<table>\n",
              "    <tr>\n",
              "        <th>colname</th>\n",
              "        <th>typename</th>\n",
              "        <th>length</th>\n",
              "    </tr>\n",
              "    <tr>\n",
              "        <td>Phone_Number</td>\n",
              "        <td>VARCHAR</td>\n",
              "        <td>14</td>\n",
              "    </tr>\n",
              "    <tr>\n",
              "        <td>Link</td>\n",
              "        <td>VARCHAR</td>\n",
              "        <td>78</td>\n",
              "    </tr>\n",
              "    <tr>\n",
              "        <td>Network_Manager</td>\n",
              "        <td>VARCHAR</td>\n",
              "        <td>40</td>\n",
              "    </tr>\n",
              "    <tr>\n",
              "        <td>Collaborative_Name</td>\n",
              "        <td>VARCHAR</td>\n",
              "        <td>34</td>\n",
              "    </tr>\n",
              "    <tr>\n",
              "        <td>Adequate_Yearly_Progress_Made_</td>\n",
              "        <td>VARCHAR</td>\n",
              "        <td>3</td>\n",
              "    </tr>\n",
              "    <tr>\n",
              "        <td>Track_Schedule</td>\n",
              "        <td>VARCHAR</td>\n",
              "        <td>12</td>\n",
              "    </tr>\n",
              "    <tr>\n",
              "        <td>CPS_Performance_Policy_Status</td>\n",
              "        <td>VARCHAR</td>\n",
              "        <td>16</td>\n",
              "    </tr>\n",
              "    <tr>\n",
              "        <td>CPS_Performance_Policy_Level</td>\n",
              "        <td>VARCHAR</td>\n",
              "        <td>15</td>\n",
              "    </tr>\n",
              "    <tr>\n",
              "        <td>HEALTHY_SCHOOL_CERTIFIED</td>\n",
              "        <td>VARCHAR</td>\n",
              "        <td>3</td>\n",
              "    </tr>\n",
              "    <tr>\n",
              "        <td>Safety_Icon</td>\n",
              "        <td>VARCHAR</td>\n",
              "        <td>11</td>\n",
              "    </tr>\n",
              "    <tr>\n",
              "        <td>SAFETY_SCORE</td>\n",
              "        <td>SMALLINT</td>\n",
              "        <td>2</td>\n",
              "    </tr>\n",
              "    <tr>\n",
              "        <td>Family_Involvement_Icon</td>\n",
              "        <td>VARCHAR</td>\n",
              "        <td>11</td>\n",
              "    </tr>\n",
              "    <tr>\n",
              "        <td>Family_Involvement_Score</td>\n",
              "        <td>VARCHAR</td>\n",
              "        <td>3</td>\n",
              "    </tr>\n",
              "    <tr>\n",
              "        <td>Environment_Icon</td>\n",
              "        <td>VARCHAR</td>\n",
              "        <td>11</td>\n",
              "    </tr>\n",
              "    <tr>\n",
              "        <td>Environment_Score</td>\n",
              "        <td>SMALLINT</td>\n",
              "        <td>2</td>\n",
              "    </tr>\n",
              "    <tr>\n",
              "        <td>Instruction_Icon</td>\n",
              "        <td>VARCHAR</td>\n",
              "        <td>11</td>\n",
              "    </tr>\n",
              "    <tr>\n",
              "        <td>Instruction_Score</td>\n",
              "        <td>SMALLINT</td>\n",
              "        <td>2</td>\n",
              "    </tr>\n",
              "    <tr>\n",
              "        <td>Leaders_Icon</td>\n",
              "        <td>VARCHAR</td>\n",
              "        <td>11</td>\n",
              "    </tr>\n",
              "    <tr>\n",
              "        <td>Leaders_Score</td>\n",
              "        <td>VARCHAR</td>\n",
              "        <td>3</td>\n",
              "    </tr>\n",
              "    <tr>\n",
              "        <td>Teachers_Icon</td>\n",
              "        <td>VARCHAR</td>\n",
              "        <td>11</td>\n",
              "    </tr>\n",
              "    <tr>\n",
              "        <td>Teachers_Score</td>\n",
              "        <td>VARCHAR</td>\n",
              "        <td>3</td>\n",
              "    </tr>\n",
              "    <tr>\n",
              "        <td>Parent_Engagement_Icon</td>\n",
              "        <td>VARCHAR</td>\n",
              "        <td>7</td>\n",
              "    </tr>\n",
              "    <tr>\n",
              "        <td>Parent_Engagement_Score</td>\n",
              "        <td>VARCHAR</td>\n",
              "        <td>3</td>\n",
              "    </tr>\n",
              "    <tr>\n",
              "        <td>Parent_Environment_Icon</td>\n",
              "        <td>VARCHAR</td>\n",
              "        <td>7</td>\n",
              "    </tr>\n",
              "    <tr>\n",
              "        <td>Parent_Environment_Score</td>\n",
              "        <td>VARCHAR</td>\n",
              "        <td>3</td>\n",
              "    </tr>\n",
              "    <tr>\n",
              "        <td>AVERAGE_STUDENT_ATTENDANCE</td>\n",
              "        <td>VARCHAR</td>\n",
              "        <td>6</td>\n",
              "    </tr>\n",
              "    <tr>\n",
              "        <td>Rate_of_Misconducts__per_100_students_</td>\n",
              "        <td>DECIMAL</td>\n",
              "        <td>5</td>\n",
              "    </tr>\n",
              "    <tr>\n",
              "        <td>Average_Teacher_Attendance</td>\n",
              "        <td>VARCHAR</td>\n",
              "        <td>6</td>\n",
              "    </tr>\n",
              "    <tr>\n",
              "        <td>Individualized_Education_Program_Compliance_Rate</td>\n",
              "        <td>VARCHAR</td>\n",
              "        <td>7</td>\n",
              "    </tr>\n",
              "    <tr>\n",
              "        <td>Pk_2_Literacy__</td>\n",
              "        <td>VARCHAR</td>\n",
              "        <td>4</td>\n",
              "    </tr>\n",
              "    <tr>\n",
              "        <td>Pk_2_Math__</td>\n",
              "        <td>VARCHAR</td>\n",
              "        <td>4</td>\n",
              "    </tr>\n",
              "    <tr>\n",
              "        <td>Gr3_5_Grade_Level_Math__</td>\n",
              "        <td>VARCHAR</td>\n",
              "        <td>4</td>\n",
              "    </tr>\n",
              "    <tr>\n",
              "        <td>Gr3_5_Grade_Level_Read__</td>\n",
              "        <td>VARCHAR</td>\n",
              "        <td>4</td>\n",
              "    </tr>\n",
              "    <tr>\n",
              "        <td>Gr3_5_Keep_Pace_Read__</td>\n",
              "        <td>VARCHAR</td>\n",
              "        <td>4</td>\n",
              "    </tr>\n",
              "    <tr>\n",
              "        <td>Gr3_5_Keep_Pace_Math__</td>\n",
              "        <td>VARCHAR</td>\n",
              "        <td>4</td>\n",
              "    </tr>\n",
              "    <tr>\n",
              "        <td>Gr6_8_Grade_Level_Math__</td>\n",
              "        <td>VARCHAR</td>\n",
              "        <td>4</td>\n",
              "    </tr>\n",
              "    <tr>\n",
              "        <td>Gr6_8_Grade_Level_Read__</td>\n",
              "        <td>VARCHAR</td>\n",
              "        <td>4</td>\n",
              "    </tr>\n",
              "    <tr>\n",
              "        <td>Gr6_8_Keep_Pace_Math_</td>\n",
              "        <td>VARCHAR</td>\n",
              "        <td>4</td>\n",
              "    </tr>\n",
              "    <tr>\n",
              "        <td>Gr6_8_Keep_Pace_Read__</td>\n",
              "        <td>VARCHAR</td>\n",
              "        <td>4</td>\n",
              "    </tr>\n",
              "    <tr>\n",
              "        <td>Gr_8_Explore_Math__</td>\n",
              "        <td>VARCHAR</td>\n",
              "        <td>4</td>\n",
              "    </tr>\n",
              "    <tr>\n",
              "        <td>Gr_8_Explore_Read__</td>\n",
              "        <td>VARCHAR</td>\n",
              "        <td>4</td>\n",
              "    </tr>\n",
              "    <tr>\n",
              "        <td>ISAT_Exceeding_Math__</td>\n",
              "        <td>DECIMAL</td>\n",
              "        <td>4</td>\n",
              "    </tr>\n",
              "    <tr>\n",
              "        <td>ISAT_Exceeding_Reading__</td>\n",
              "        <td>DECIMAL</td>\n",
              "        <td>4</td>\n",
              "    </tr>\n",
              "    <tr>\n",
              "        <td>School_ID</td>\n",
              "        <td>INTEGER</td>\n",
              "        <td>4</td>\n",
              "    </tr>\n",
              "    <tr>\n",
              "        <td>NAME_OF_SCHOOL</td>\n",
              "        <td>VARCHAR</td>\n",
              "        <td>65</td>\n",
              "    </tr>\n",
              "    <tr>\n",
              "        <td>Elementary, Middle, or High School</td>\n",
              "        <td>VARCHAR</td>\n",
              "        <td>2</td>\n",
              "    </tr>\n",
              "    <tr>\n",
              "        <td>Street_Address</td>\n",
              "        <td>VARCHAR</td>\n",
              "        <td>30</td>\n",
              "    </tr>\n",
              "    <tr>\n",
              "        <td>City</td>\n",
              "        <td>VARCHAR</td>\n",
              "        <td>7</td>\n",
              "    </tr>\n",
              "    <tr>\n",
              "        <td>State</td>\n",
              "        <td>VARCHAR</td>\n",
              "        <td>2</td>\n",
              "    </tr>\n",
              "    <tr>\n",
              "        <td>ZIP_Code</td>\n",
              "        <td>INTEGER</td>\n",
              "        <td>4</td>\n",
              "    </tr>\n",
              "    <tr>\n",
              "        <td>ISAT_Value_Add_Math</td>\n",
              "        <td>DECIMAL</td>\n",
              "        <td>3</td>\n",
              "    </tr>\n",
              "    <tr>\n",
              "        <td>ISAT_Value_Add_Read</td>\n",
              "        <td>DECIMAL</td>\n",
              "        <td>3</td>\n",
              "    </tr>\n",
              "    <tr>\n",
              "        <td>ISAT_Value_Add_Color_Math</td>\n",
              "        <td>VARCHAR</td>\n",
              "        <td>6</td>\n",
              "    </tr>\n",
              "    <tr>\n",
              "        <td>ISAT_Value_Add_Color_Read</td>\n",
              "        <td>VARCHAR</td>\n",
              "        <td>6</td>\n",
              "    </tr>\n",
              "    <tr>\n",
              "        <td>Students_Taking__Algebra__</td>\n",
              "        <td>VARCHAR</td>\n",
              "        <td>4</td>\n",
              "    </tr>\n",
              "    <tr>\n",
              "        <td>Students_Passing__Algebra__</td>\n",
              "        <td>VARCHAR</td>\n",
              "        <td>4</td>\n",
              "    </tr>\n",
              "    <tr>\n",
              "        <td>9th Grade EXPLORE (2009)</td>\n",
              "        <td>VARCHAR</td>\n",
              "        <td>4</td>\n",
              "    </tr>\n",
              "    <tr>\n",
              "        <td>9th Grade EXPLORE (2010)</td>\n",
              "        <td>VARCHAR</td>\n",
              "        <td>4</td>\n",
              "    </tr>\n",
              "    <tr>\n",
              "        <td>10th Grade PLAN (2009)</td>\n",
              "        <td>VARCHAR</td>\n",
              "        <td>4</td>\n",
              "    </tr>\n",
              "    <tr>\n",
              "        <td>10th Grade PLAN (2010)</td>\n",
              "        <td>VARCHAR</td>\n",
              "        <td>4</td>\n",
              "    </tr>\n",
              "    <tr>\n",
              "        <td>Net_Change_EXPLORE_and_PLAN</td>\n",
              "        <td>VARCHAR</td>\n",
              "        <td>3</td>\n",
              "    </tr>\n",
              "    <tr>\n",
              "        <td>11th Grade Average ACT (2011)</td>\n",
              "        <td>VARCHAR</td>\n",
              "        <td>4</td>\n",
              "    </tr>\n",
              "    <tr>\n",
              "        <td>Net_Change_PLAN_and_ACT</td>\n",
              "        <td>VARCHAR</td>\n",
              "        <td>3</td>\n",
              "    </tr>\n",
              "    <tr>\n",
              "        <td>College_Eligibility__</td>\n",
              "        <td>VARCHAR</td>\n",
              "        <td>4</td>\n",
              "    </tr>\n",
              "    <tr>\n",
              "        <td>Graduation_Rate__</td>\n",
              "        <td>VARCHAR</td>\n",
              "        <td>4</td>\n",
              "    </tr>\n",
              "    <tr>\n",
              "        <td>College_Enrollment_Rate__</td>\n",
              "        <td>VARCHAR</td>\n",
              "        <td>4</td>\n",
              "    </tr>\n",
              "    <tr>\n",
              "        <td>COLLEGE_ENROLLMENT</td>\n",
              "        <td>SMALLINT</td>\n",
              "        <td>2</td>\n",
              "    </tr>\n",
              "    <tr>\n",
              "        <td>General_Services_Route</td>\n",
              "        <td>SMALLINT</td>\n",
              "        <td>2</td>\n",
              "    </tr>\n",
              "    <tr>\n",
              "        <td>Freshman_on_Track_Rate__</td>\n",
              "        <td>VARCHAR</td>\n",
              "        <td>4</td>\n",
              "    </tr>\n",
              "    <tr>\n",
              "        <td>X_COORDINATE</td>\n",
              "        <td>DECIMAL</td>\n",
              "        <td>13</td>\n",
              "    </tr>\n",
              "    <tr>\n",
              "        <td>Y_COORDINATE</td>\n",
              "        <td>DECIMAL</td>\n",
              "        <td>13</td>\n",
              "    </tr>\n",
              "    <tr>\n",
              "        <td>Latitude</td>\n",
              "        <td>DECIMAL</td>\n",
              "        <td>18</td>\n",
              "    </tr>\n",
              "    <tr>\n",
              "        <td>Longitude</td>\n",
              "        <td>DECIMAL</td>\n",
              "        <td>18</td>\n",
              "    </tr>\n",
              "    <tr>\n",
              "        <td>COMMUNITY_AREA_NUMBER</td>\n",
              "        <td>SMALLINT</td>\n",
              "        <td>2</td>\n",
              "    </tr>\n",
              "    <tr>\n",
              "        <td>COMMUNITY_AREA_NAME</td>\n",
              "        <td>VARCHAR</td>\n",
              "        <td>22</td>\n",
              "    </tr>\n",
              "    <tr>\n",
              "        <td>Ward</td>\n",
              "        <td>SMALLINT</td>\n",
              "        <td>2</td>\n",
              "    </tr>\n",
              "    <tr>\n",
              "        <td>Police_District</td>\n",
              "        <td>SMALLINT</td>\n",
              "        <td>2</td>\n",
              "    </tr>\n",
              "    <tr>\n",
              "        <td>Location</td>\n",
              "        <td>VARCHAR</td>\n",
              "        <td>27</td>\n",
              "    </tr>\n",
              "</table>"
            ],
            "text/plain": [
              "[('Phone_Number', 'VARCHAR', 14),\n",
              " ('Link', 'VARCHAR', 78),\n",
              " ('Network_Manager', 'VARCHAR', 40),\n",
              " ('Collaborative_Name', 'VARCHAR', 34),\n",
              " ('Adequate_Yearly_Progress_Made_', 'VARCHAR', 3),\n",
              " ('Track_Schedule', 'VARCHAR', 12),\n",
              " ('CPS_Performance_Policy_Status', 'VARCHAR', 16),\n",
              " ('CPS_Performance_Policy_Level', 'VARCHAR', 15),\n",
              " ('HEALTHY_SCHOOL_CERTIFIED', 'VARCHAR', 3),\n",
              " ('Safety_Icon', 'VARCHAR', 11),\n",
              " ('SAFETY_SCORE', 'SMALLINT', 2),\n",
              " ('Family_Involvement_Icon', 'VARCHAR', 11),\n",
              " ('Family_Involvement_Score', 'VARCHAR', 3),\n",
              " ('Environment_Icon', 'VARCHAR', 11),\n",
              " ('Environment_Score', 'SMALLINT', 2),\n",
              " ('Instruction_Icon', 'VARCHAR', 11),\n",
              " ('Instruction_Score', 'SMALLINT', 2),\n",
              " ('Leaders_Icon', 'VARCHAR', 11),\n",
              " ('Leaders_Score', 'VARCHAR', 3),\n",
              " ('Teachers_Icon', 'VARCHAR', 11),\n",
              " ('Teachers_Score', 'VARCHAR', 3),\n",
              " ('Parent_Engagement_Icon', 'VARCHAR', 7),\n",
              " ('Parent_Engagement_Score', 'VARCHAR', 3),\n",
              " ('Parent_Environment_Icon', 'VARCHAR', 7),\n",
              " ('Parent_Environment_Score', 'VARCHAR', 3),\n",
              " ('AVERAGE_STUDENT_ATTENDANCE', 'VARCHAR', 6),\n",
              " ('Rate_of_Misconducts__per_100_students_', 'DECIMAL', 5),\n",
              " ('Average_Teacher_Attendance', 'VARCHAR', 6),\n",
              " ('Individualized_Education_Program_Compliance_Rate', 'VARCHAR', 7),\n",
              " ('Pk_2_Literacy__', 'VARCHAR', 4),\n",
              " ('Pk_2_Math__', 'VARCHAR', 4),\n",
              " ('Gr3_5_Grade_Level_Math__', 'VARCHAR', 4),\n",
              " ('Gr3_5_Grade_Level_Read__', 'VARCHAR', 4),\n",
              " ('Gr3_5_Keep_Pace_Read__', 'VARCHAR', 4),\n",
              " ('Gr3_5_Keep_Pace_Math__', 'VARCHAR', 4),\n",
              " ('Gr6_8_Grade_Level_Math__', 'VARCHAR', 4),\n",
              " ('Gr6_8_Grade_Level_Read__', 'VARCHAR', 4),\n",
              " ('Gr6_8_Keep_Pace_Math_', 'VARCHAR', 4),\n",
              " ('Gr6_8_Keep_Pace_Read__', 'VARCHAR', 4),\n",
              " ('Gr_8_Explore_Math__', 'VARCHAR', 4),\n",
              " ('Gr_8_Explore_Read__', 'VARCHAR', 4),\n",
              " ('ISAT_Exceeding_Math__', 'DECIMAL', 4),\n",
              " ('ISAT_Exceeding_Reading__', 'DECIMAL', 4),\n",
              " ('School_ID', 'INTEGER', 4),\n",
              " ('NAME_OF_SCHOOL', 'VARCHAR', 65),\n",
              " ('Elementary, Middle, or High School', 'VARCHAR', 2),\n",
              " ('Street_Address', 'VARCHAR', 30),\n",
              " ('City', 'VARCHAR', 7),\n",
              " ('State', 'VARCHAR', 2),\n",
              " ('ZIP_Code', 'INTEGER', 4),\n",
              " ('ISAT_Value_Add_Math', 'DECIMAL', 3),\n",
              " ('ISAT_Value_Add_Read', 'DECIMAL', 3),\n",
              " ('ISAT_Value_Add_Color_Math', 'VARCHAR', 6),\n",
              " ('ISAT_Value_Add_Color_Read', 'VARCHAR', 6),\n",
              " ('Students_Taking__Algebra__', 'VARCHAR', 4),\n",
              " ('Students_Passing__Algebra__', 'VARCHAR', 4),\n",
              " ('9th Grade EXPLORE (2009)', 'VARCHAR', 4),\n",
              " ('9th Grade EXPLORE (2010)', 'VARCHAR', 4),\n",
              " ('10th Grade PLAN (2009)', 'VARCHAR', 4),\n",
              " ('10th Grade PLAN (2010)', 'VARCHAR', 4),\n",
              " ('Net_Change_EXPLORE_and_PLAN', 'VARCHAR', 3),\n",
              " ('11th Grade Average ACT (2011)', 'VARCHAR', 4),\n",
              " ('Net_Change_PLAN_and_ACT', 'VARCHAR', 3),\n",
              " ('College_Eligibility__', 'VARCHAR', 4),\n",
              " ('Graduation_Rate__', 'VARCHAR', 4),\n",
              " ('College_Enrollment_Rate__', 'VARCHAR', 4),\n",
              " ('COLLEGE_ENROLLMENT', 'SMALLINT', 2),\n",
              " ('General_Services_Route', 'SMALLINT', 2),\n",
              " ('Freshman_on_Track_Rate__', 'VARCHAR', 4),\n",
              " ('X_COORDINATE', 'DECIMAL', 13),\n",
              " ('Y_COORDINATE', 'DECIMAL', 13),\n",
              " ('Latitude', 'DECIMAL', 18),\n",
              " ('Longitude', 'DECIMAL', 18),\n",
              " ('COMMUNITY_AREA_NUMBER', 'SMALLINT', 2),\n",
              " ('COMMUNITY_AREA_NAME', 'VARCHAR', 22),\n",
              " ('Ward', 'SMALLINT', 2),\n",
              " ('Police_District', 'SMALLINT', 2),\n",
              " ('Location', 'VARCHAR', 27)]"
            ]
          },
          "metadata": {
            "tags": []
          },
          "execution_count": 13
        }
      ]
    },
    {
      "cell_type": "code",
      "metadata": {
        "id": "JRyhQ5Pvjtlk",
        "outputId": "ea84d37d-afaa-45b0-d87f-933b6f11a764",
        "colab": {
          "base_uri": "https://localhost:8080/",
          "height": 1000
        }
      },
      "source": [
        "%sql select distinct(NAME), COLTYPE, LENGTH from SYSIBM.SYSCOLUMNS where TBNAME = 'CHICAGO_PUBLIC_SCHOOLS'"
      ],
      "execution_count": 14,
      "outputs": [
        {
          "output_type": "stream",
          "text": [
            " * ibm_db_sa://bxd83998:***@dashdb-txn-sbox-yp-dal09-08.services.dal.bluemix.net:50000/BLUDB\n",
            "Done.\n"
          ],
          "name": "stdout"
        },
        {
          "output_type": "execute_result",
          "data": {
            "text/html": [
              "<table>\n",
              "    <tr>\n",
              "        <th>name</th>\n",
              "        <th>coltype</th>\n",
              "        <th>length</th>\n",
              "    </tr>\n",
              "    <tr>\n",
              "        <td>10th Grade PLAN (2009)</td>\n",
              "        <td>VARCHAR </td>\n",
              "        <td>4</td>\n",
              "    </tr>\n",
              "    <tr>\n",
              "        <td>10th Grade PLAN (2010)</td>\n",
              "        <td>VARCHAR </td>\n",
              "        <td>4</td>\n",
              "    </tr>\n",
              "    <tr>\n",
              "        <td>11th Grade Average ACT (2011)</td>\n",
              "        <td>VARCHAR </td>\n",
              "        <td>4</td>\n",
              "    </tr>\n",
              "    <tr>\n",
              "        <td>9th Grade EXPLORE (2009)</td>\n",
              "        <td>VARCHAR </td>\n",
              "        <td>4</td>\n",
              "    </tr>\n",
              "    <tr>\n",
              "        <td>9th Grade EXPLORE (2010)</td>\n",
              "        <td>VARCHAR </td>\n",
              "        <td>4</td>\n",
              "    </tr>\n",
              "    <tr>\n",
              "        <td>AVERAGE_STUDENT_ATTENDANCE</td>\n",
              "        <td>VARCHAR </td>\n",
              "        <td>6</td>\n",
              "    </tr>\n",
              "    <tr>\n",
              "        <td>Adequate_Yearly_Progress_Made_</td>\n",
              "        <td>VARCHAR </td>\n",
              "        <td>3</td>\n",
              "    </tr>\n",
              "    <tr>\n",
              "        <td>Average_Teacher_Attendance</td>\n",
              "        <td>VARCHAR </td>\n",
              "        <td>6</td>\n",
              "    </tr>\n",
              "    <tr>\n",
              "        <td>COLLEGE_ENROLLMENT</td>\n",
              "        <td>SMALLINT</td>\n",
              "        <td>2</td>\n",
              "    </tr>\n",
              "    <tr>\n",
              "        <td>COMMUNITY_AREA_NAME</td>\n",
              "        <td>VARCHAR </td>\n",
              "        <td>22</td>\n",
              "    </tr>\n",
              "    <tr>\n",
              "        <td>COMMUNITY_AREA_NUMBER</td>\n",
              "        <td>SMALLINT</td>\n",
              "        <td>2</td>\n",
              "    </tr>\n",
              "    <tr>\n",
              "        <td>CPS_Performance_Policy_Level</td>\n",
              "        <td>VARCHAR </td>\n",
              "        <td>15</td>\n",
              "    </tr>\n",
              "    <tr>\n",
              "        <td>CPS_Performance_Policy_Status</td>\n",
              "        <td>VARCHAR </td>\n",
              "        <td>16</td>\n",
              "    </tr>\n",
              "    <tr>\n",
              "        <td>City</td>\n",
              "        <td>VARCHAR </td>\n",
              "        <td>7</td>\n",
              "    </tr>\n",
              "    <tr>\n",
              "        <td>Collaborative_Name</td>\n",
              "        <td>VARCHAR </td>\n",
              "        <td>34</td>\n",
              "    </tr>\n",
              "    <tr>\n",
              "        <td>College_Eligibility__</td>\n",
              "        <td>VARCHAR </td>\n",
              "        <td>4</td>\n",
              "    </tr>\n",
              "    <tr>\n",
              "        <td>College_Enrollment_Rate__</td>\n",
              "        <td>VARCHAR </td>\n",
              "        <td>4</td>\n",
              "    </tr>\n",
              "    <tr>\n",
              "        <td>Elementary, Middle, or High School</td>\n",
              "        <td>VARCHAR </td>\n",
              "        <td>2</td>\n",
              "    </tr>\n",
              "    <tr>\n",
              "        <td>Environment_Icon</td>\n",
              "        <td>VARCHAR </td>\n",
              "        <td>11</td>\n",
              "    </tr>\n",
              "    <tr>\n",
              "        <td>Environment_Score</td>\n",
              "        <td>SMALLINT</td>\n",
              "        <td>2</td>\n",
              "    </tr>\n",
              "    <tr>\n",
              "        <td>Family_Involvement_Icon</td>\n",
              "        <td>VARCHAR </td>\n",
              "        <td>11</td>\n",
              "    </tr>\n",
              "    <tr>\n",
              "        <td>Family_Involvement_Score</td>\n",
              "        <td>VARCHAR </td>\n",
              "        <td>3</td>\n",
              "    </tr>\n",
              "    <tr>\n",
              "        <td>Freshman_on_Track_Rate__</td>\n",
              "        <td>VARCHAR </td>\n",
              "        <td>4</td>\n",
              "    </tr>\n",
              "    <tr>\n",
              "        <td>General_Services_Route</td>\n",
              "        <td>SMALLINT</td>\n",
              "        <td>2</td>\n",
              "    </tr>\n",
              "    <tr>\n",
              "        <td>Gr3_5_Grade_Level_Math__</td>\n",
              "        <td>VARCHAR </td>\n",
              "        <td>4</td>\n",
              "    </tr>\n",
              "    <tr>\n",
              "        <td>Gr3_5_Grade_Level_Read__</td>\n",
              "        <td>VARCHAR </td>\n",
              "        <td>4</td>\n",
              "    </tr>\n",
              "    <tr>\n",
              "        <td>Gr3_5_Keep_Pace_Math__</td>\n",
              "        <td>VARCHAR </td>\n",
              "        <td>4</td>\n",
              "    </tr>\n",
              "    <tr>\n",
              "        <td>Gr3_5_Keep_Pace_Read__</td>\n",
              "        <td>VARCHAR </td>\n",
              "        <td>4</td>\n",
              "    </tr>\n",
              "    <tr>\n",
              "        <td>Gr6_8_Grade_Level_Math__</td>\n",
              "        <td>VARCHAR </td>\n",
              "        <td>4</td>\n",
              "    </tr>\n",
              "    <tr>\n",
              "        <td>Gr6_8_Grade_Level_Read__</td>\n",
              "        <td>VARCHAR </td>\n",
              "        <td>4</td>\n",
              "    </tr>\n",
              "    <tr>\n",
              "        <td>Gr6_8_Keep_Pace_Math_</td>\n",
              "        <td>VARCHAR </td>\n",
              "        <td>4</td>\n",
              "    </tr>\n",
              "    <tr>\n",
              "        <td>Gr6_8_Keep_Pace_Read__</td>\n",
              "        <td>VARCHAR </td>\n",
              "        <td>4</td>\n",
              "    </tr>\n",
              "    <tr>\n",
              "        <td>Gr_8_Explore_Math__</td>\n",
              "        <td>VARCHAR </td>\n",
              "        <td>4</td>\n",
              "    </tr>\n",
              "    <tr>\n",
              "        <td>Gr_8_Explore_Read__</td>\n",
              "        <td>VARCHAR </td>\n",
              "        <td>4</td>\n",
              "    </tr>\n",
              "    <tr>\n",
              "        <td>Graduation_Rate__</td>\n",
              "        <td>VARCHAR </td>\n",
              "        <td>4</td>\n",
              "    </tr>\n",
              "    <tr>\n",
              "        <td>HEALTHY_SCHOOL_CERTIFIED</td>\n",
              "        <td>VARCHAR </td>\n",
              "        <td>3</td>\n",
              "    </tr>\n",
              "    <tr>\n",
              "        <td>ISAT_Exceeding_Math__</td>\n",
              "        <td>DECIMAL </td>\n",
              "        <td>4</td>\n",
              "    </tr>\n",
              "    <tr>\n",
              "        <td>ISAT_Exceeding_Reading__</td>\n",
              "        <td>DECIMAL </td>\n",
              "        <td>4</td>\n",
              "    </tr>\n",
              "    <tr>\n",
              "        <td>ISAT_Value_Add_Color_Math</td>\n",
              "        <td>VARCHAR </td>\n",
              "        <td>6</td>\n",
              "    </tr>\n",
              "    <tr>\n",
              "        <td>ISAT_Value_Add_Color_Read</td>\n",
              "        <td>VARCHAR </td>\n",
              "        <td>6</td>\n",
              "    </tr>\n",
              "    <tr>\n",
              "        <td>ISAT_Value_Add_Math</td>\n",
              "        <td>DECIMAL </td>\n",
              "        <td>3</td>\n",
              "    </tr>\n",
              "    <tr>\n",
              "        <td>ISAT_Value_Add_Read</td>\n",
              "        <td>DECIMAL </td>\n",
              "        <td>3</td>\n",
              "    </tr>\n",
              "    <tr>\n",
              "        <td>Individualized_Education_Program_Compliance_Rate</td>\n",
              "        <td>VARCHAR </td>\n",
              "        <td>7</td>\n",
              "    </tr>\n",
              "    <tr>\n",
              "        <td>Instruction_Icon</td>\n",
              "        <td>VARCHAR </td>\n",
              "        <td>11</td>\n",
              "    </tr>\n",
              "    <tr>\n",
              "        <td>Instruction_Score</td>\n",
              "        <td>SMALLINT</td>\n",
              "        <td>2</td>\n",
              "    </tr>\n",
              "    <tr>\n",
              "        <td>Latitude</td>\n",
              "        <td>DECIMAL </td>\n",
              "        <td>18</td>\n",
              "    </tr>\n",
              "    <tr>\n",
              "        <td>Leaders_Icon</td>\n",
              "        <td>VARCHAR </td>\n",
              "        <td>11</td>\n",
              "    </tr>\n",
              "    <tr>\n",
              "        <td>Leaders_Score</td>\n",
              "        <td>VARCHAR </td>\n",
              "        <td>3</td>\n",
              "    </tr>\n",
              "    <tr>\n",
              "        <td>Link</td>\n",
              "        <td>VARCHAR </td>\n",
              "        <td>78</td>\n",
              "    </tr>\n",
              "    <tr>\n",
              "        <td>Location</td>\n",
              "        <td>VARCHAR </td>\n",
              "        <td>27</td>\n",
              "    </tr>\n",
              "    <tr>\n",
              "        <td>Longitude</td>\n",
              "        <td>DECIMAL </td>\n",
              "        <td>18</td>\n",
              "    </tr>\n",
              "    <tr>\n",
              "        <td>NAME_OF_SCHOOL</td>\n",
              "        <td>VARCHAR </td>\n",
              "        <td>65</td>\n",
              "    </tr>\n",
              "    <tr>\n",
              "        <td>Net_Change_EXPLORE_and_PLAN</td>\n",
              "        <td>VARCHAR </td>\n",
              "        <td>3</td>\n",
              "    </tr>\n",
              "    <tr>\n",
              "        <td>Net_Change_PLAN_and_ACT</td>\n",
              "        <td>VARCHAR </td>\n",
              "        <td>3</td>\n",
              "    </tr>\n",
              "    <tr>\n",
              "        <td>Network_Manager</td>\n",
              "        <td>VARCHAR </td>\n",
              "        <td>40</td>\n",
              "    </tr>\n",
              "    <tr>\n",
              "        <td>Parent_Engagement_Icon</td>\n",
              "        <td>VARCHAR </td>\n",
              "        <td>7</td>\n",
              "    </tr>\n",
              "    <tr>\n",
              "        <td>Parent_Engagement_Score</td>\n",
              "        <td>VARCHAR </td>\n",
              "        <td>3</td>\n",
              "    </tr>\n",
              "    <tr>\n",
              "        <td>Parent_Environment_Icon</td>\n",
              "        <td>VARCHAR </td>\n",
              "        <td>7</td>\n",
              "    </tr>\n",
              "    <tr>\n",
              "        <td>Parent_Environment_Score</td>\n",
              "        <td>VARCHAR </td>\n",
              "        <td>3</td>\n",
              "    </tr>\n",
              "    <tr>\n",
              "        <td>Phone_Number</td>\n",
              "        <td>VARCHAR </td>\n",
              "        <td>14</td>\n",
              "    </tr>\n",
              "    <tr>\n",
              "        <td>Pk_2_Literacy__</td>\n",
              "        <td>VARCHAR </td>\n",
              "        <td>4</td>\n",
              "    </tr>\n",
              "    <tr>\n",
              "        <td>Pk_2_Math__</td>\n",
              "        <td>VARCHAR </td>\n",
              "        <td>4</td>\n",
              "    </tr>\n",
              "    <tr>\n",
              "        <td>Police_District</td>\n",
              "        <td>SMALLINT</td>\n",
              "        <td>2</td>\n",
              "    </tr>\n",
              "    <tr>\n",
              "        <td>Rate_of_Misconducts__per_100_students_</td>\n",
              "        <td>DECIMAL </td>\n",
              "        <td>5</td>\n",
              "    </tr>\n",
              "    <tr>\n",
              "        <td>SAFETY_SCORE</td>\n",
              "        <td>SMALLINT</td>\n",
              "        <td>2</td>\n",
              "    </tr>\n",
              "    <tr>\n",
              "        <td>Safety_Icon</td>\n",
              "        <td>VARCHAR </td>\n",
              "        <td>11</td>\n",
              "    </tr>\n",
              "    <tr>\n",
              "        <td>School_ID</td>\n",
              "        <td>INTEGER </td>\n",
              "        <td>4</td>\n",
              "    </tr>\n",
              "    <tr>\n",
              "        <td>State</td>\n",
              "        <td>VARCHAR </td>\n",
              "        <td>2</td>\n",
              "    </tr>\n",
              "    <tr>\n",
              "        <td>Street_Address</td>\n",
              "        <td>VARCHAR </td>\n",
              "        <td>30</td>\n",
              "    </tr>\n",
              "    <tr>\n",
              "        <td>Students_Passing__Algebra__</td>\n",
              "        <td>VARCHAR </td>\n",
              "        <td>4</td>\n",
              "    </tr>\n",
              "    <tr>\n",
              "        <td>Students_Taking__Algebra__</td>\n",
              "        <td>VARCHAR </td>\n",
              "        <td>4</td>\n",
              "    </tr>\n",
              "    <tr>\n",
              "        <td>Teachers_Icon</td>\n",
              "        <td>VARCHAR </td>\n",
              "        <td>11</td>\n",
              "    </tr>\n",
              "    <tr>\n",
              "        <td>Teachers_Score</td>\n",
              "        <td>VARCHAR </td>\n",
              "        <td>3</td>\n",
              "    </tr>\n",
              "    <tr>\n",
              "        <td>Track_Schedule</td>\n",
              "        <td>VARCHAR </td>\n",
              "        <td>12</td>\n",
              "    </tr>\n",
              "    <tr>\n",
              "        <td>Ward</td>\n",
              "        <td>SMALLINT</td>\n",
              "        <td>2</td>\n",
              "    </tr>\n",
              "    <tr>\n",
              "        <td>X_COORDINATE</td>\n",
              "        <td>DECIMAL </td>\n",
              "        <td>13</td>\n",
              "    </tr>\n",
              "    <tr>\n",
              "        <td>Y_COORDINATE</td>\n",
              "        <td>DECIMAL </td>\n",
              "        <td>13</td>\n",
              "    </tr>\n",
              "    <tr>\n",
              "        <td>ZIP_Code</td>\n",
              "        <td>INTEGER </td>\n",
              "        <td>4</td>\n",
              "    </tr>\n",
              "</table>"
            ],
            "text/plain": [
              "[('10th Grade PLAN (2009)', 'VARCHAR ', 4),\n",
              " ('10th Grade PLAN (2010)', 'VARCHAR ', 4),\n",
              " ('11th Grade Average ACT (2011)', 'VARCHAR ', 4),\n",
              " ('9th Grade EXPLORE (2009)', 'VARCHAR ', 4),\n",
              " ('9th Grade EXPLORE (2010)', 'VARCHAR ', 4),\n",
              " ('AVERAGE_STUDENT_ATTENDANCE', 'VARCHAR ', 6),\n",
              " ('Adequate_Yearly_Progress_Made_', 'VARCHAR ', 3),\n",
              " ('Average_Teacher_Attendance', 'VARCHAR ', 6),\n",
              " ('COLLEGE_ENROLLMENT', 'SMALLINT', 2),\n",
              " ('COMMUNITY_AREA_NAME', 'VARCHAR ', 22),\n",
              " ('COMMUNITY_AREA_NUMBER', 'SMALLINT', 2),\n",
              " ('CPS_Performance_Policy_Level', 'VARCHAR ', 15),\n",
              " ('CPS_Performance_Policy_Status', 'VARCHAR ', 16),\n",
              " ('City', 'VARCHAR ', 7),\n",
              " ('Collaborative_Name', 'VARCHAR ', 34),\n",
              " ('College_Eligibility__', 'VARCHAR ', 4),\n",
              " ('College_Enrollment_Rate__', 'VARCHAR ', 4),\n",
              " ('Elementary, Middle, or High School', 'VARCHAR ', 2),\n",
              " ('Environment_Icon', 'VARCHAR ', 11),\n",
              " ('Environment_Score', 'SMALLINT', 2),\n",
              " ('Family_Involvement_Icon', 'VARCHAR ', 11),\n",
              " ('Family_Involvement_Score', 'VARCHAR ', 3),\n",
              " ('Freshman_on_Track_Rate__', 'VARCHAR ', 4),\n",
              " ('General_Services_Route', 'SMALLINT', 2),\n",
              " ('Gr3_5_Grade_Level_Math__', 'VARCHAR ', 4),\n",
              " ('Gr3_5_Grade_Level_Read__', 'VARCHAR ', 4),\n",
              " ('Gr3_5_Keep_Pace_Math__', 'VARCHAR ', 4),\n",
              " ('Gr3_5_Keep_Pace_Read__', 'VARCHAR ', 4),\n",
              " ('Gr6_8_Grade_Level_Math__', 'VARCHAR ', 4),\n",
              " ('Gr6_8_Grade_Level_Read__', 'VARCHAR ', 4),\n",
              " ('Gr6_8_Keep_Pace_Math_', 'VARCHAR ', 4),\n",
              " ('Gr6_8_Keep_Pace_Read__', 'VARCHAR ', 4),\n",
              " ('Gr_8_Explore_Math__', 'VARCHAR ', 4),\n",
              " ('Gr_8_Explore_Read__', 'VARCHAR ', 4),\n",
              " ('Graduation_Rate__', 'VARCHAR ', 4),\n",
              " ('HEALTHY_SCHOOL_CERTIFIED', 'VARCHAR ', 3),\n",
              " ('ISAT_Exceeding_Math__', 'DECIMAL ', 4),\n",
              " ('ISAT_Exceeding_Reading__', 'DECIMAL ', 4),\n",
              " ('ISAT_Value_Add_Color_Math', 'VARCHAR ', 6),\n",
              " ('ISAT_Value_Add_Color_Read', 'VARCHAR ', 6),\n",
              " ('ISAT_Value_Add_Math', 'DECIMAL ', 3),\n",
              " ('ISAT_Value_Add_Read', 'DECIMAL ', 3),\n",
              " ('Individualized_Education_Program_Compliance_Rate', 'VARCHAR ', 7),\n",
              " ('Instruction_Icon', 'VARCHAR ', 11),\n",
              " ('Instruction_Score', 'SMALLINT', 2),\n",
              " ('Latitude', 'DECIMAL ', 18),\n",
              " ('Leaders_Icon', 'VARCHAR ', 11),\n",
              " ('Leaders_Score', 'VARCHAR ', 3),\n",
              " ('Link', 'VARCHAR ', 78),\n",
              " ('Location', 'VARCHAR ', 27),\n",
              " ('Longitude', 'DECIMAL ', 18),\n",
              " ('NAME_OF_SCHOOL', 'VARCHAR ', 65),\n",
              " ('Net_Change_EXPLORE_and_PLAN', 'VARCHAR ', 3),\n",
              " ('Net_Change_PLAN_and_ACT', 'VARCHAR ', 3),\n",
              " ('Network_Manager', 'VARCHAR ', 40),\n",
              " ('Parent_Engagement_Icon', 'VARCHAR ', 7),\n",
              " ('Parent_Engagement_Score', 'VARCHAR ', 3),\n",
              " ('Parent_Environment_Icon', 'VARCHAR ', 7),\n",
              " ('Parent_Environment_Score', 'VARCHAR ', 3),\n",
              " ('Phone_Number', 'VARCHAR ', 14),\n",
              " ('Pk_2_Literacy__', 'VARCHAR ', 4),\n",
              " ('Pk_2_Math__', 'VARCHAR ', 4),\n",
              " ('Police_District', 'SMALLINT', 2),\n",
              " ('Rate_of_Misconducts__per_100_students_', 'DECIMAL ', 5),\n",
              " ('SAFETY_SCORE', 'SMALLINT', 2),\n",
              " ('Safety_Icon', 'VARCHAR ', 11),\n",
              " ('School_ID', 'INTEGER ', 4),\n",
              " ('State', 'VARCHAR ', 2),\n",
              " ('Street_Address', 'VARCHAR ', 30),\n",
              " ('Students_Passing__Algebra__', 'VARCHAR ', 4),\n",
              " ('Students_Taking__Algebra__', 'VARCHAR ', 4),\n",
              " ('Teachers_Icon', 'VARCHAR ', 11),\n",
              " ('Teachers_Score', 'VARCHAR ', 3),\n",
              " ('Track_Schedule', 'VARCHAR ', 12),\n",
              " ('Ward', 'SMALLINT', 2),\n",
              " ('X_COORDINATE', 'DECIMAL ', 13),\n",
              " ('Y_COORDINATE', 'DECIMAL ', 13),\n",
              " ('ZIP_Code', 'INTEGER ', 4)]"
            ]
          },
          "metadata": {
            "tags": []
          },
          "execution_count": 14
        }
      ]
    },
    {
      "cell_type": "markdown",
      "metadata": {
        "id": "pC3JIJokMghO"
      },
      "source": [
        "### Questions\n",
        "\n",
        "1.  Is the column name for the \"SCHOOL ID\" attribute in upper or mixed case?\n",
        "2.  What is the name of \"Community Area Name\" column in your table? Does it have spaces?\n",
        "3.  Are there any columns in whose names the spaces and paranthesis (round brackets) have been replaced by the underscore character \"\\_\"?\n"
      ]
    },
    {
      "cell_type": "markdown",
      "metadata": {
        "id": "d9pOC_TSMghQ"
      },
      "source": [
        "## Problems\n",
        "\n",
        "### Problem 1\n",
        "\n",
        "##### How many Elementary Schools are in the dataset?\n"
      ]
    },
    {
      "cell_type": "code",
      "metadata": {
        "id": "GGHm_2CsMghR",
        "outputId": "beb38d67-a459-46e6-b65b-e6a37f803c0b",
        "colab": {
          "base_uri": "https://localhost:8080/",
          "height": 88
        }
      },
      "source": [
        "%sql SELECT COUNT(*) FROM CHICAGO_PUBLIC_SCHOOLS WHERE \"Elementary, Middle, or High School\" = 'ES'"
      ],
      "execution_count": 15,
      "outputs": [
        {
          "output_type": "stream",
          "text": [
            " * ibm_db_sa://bxd83998:***@dashdb-txn-sbox-yp-dal09-08.services.dal.bluemix.net:50000/BLUDB\n",
            "Done.\n"
          ],
          "name": "stdout"
        },
        {
          "output_type": "execute_result",
          "data": {
            "text/html": [
              "<table>\n",
              "    <tr>\n",
              "        <th>1</th>\n",
              "    </tr>\n",
              "    <tr>\n",
              "        <td>462</td>\n",
              "    </tr>\n",
              "</table>"
            ],
            "text/plain": [
              "[(Decimal('462'),)]"
            ]
          },
          "metadata": {
            "tags": []
          },
          "execution_count": 15
        }
      ]
    },
    {
      "cell_type": "markdown",
      "metadata": {
        "id": "FHqiHNiIMghg"
      },
      "source": [
        "### Problem 2\n",
        "\n",
        "##### What is the highest Safety Score?\n"
      ]
    },
    {
      "cell_type": "code",
      "metadata": {
        "id": "JzTNH-G8Mghg",
        "outputId": "f88981f4-1454-4cf5-ed01-d92bcb74b9dd",
        "colab": {
          "base_uri": "https://localhost:8080/",
          "height": 88
        }
      },
      "source": [
        "%sql SELECT MAX(SAFETY_SCORE) FROM CHICAGO_PUBLIC_SCHOOLS;"
      ],
      "execution_count": 16,
      "outputs": [
        {
          "output_type": "stream",
          "text": [
            " * ibm_db_sa://bxd83998:***@dashdb-txn-sbox-yp-dal09-08.services.dal.bluemix.net:50000/BLUDB\n",
            "Done.\n"
          ],
          "name": "stdout"
        },
        {
          "output_type": "execute_result",
          "data": {
            "text/html": [
              "<table>\n",
              "    <tr>\n",
              "        <th>1</th>\n",
              "    </tr>\n",
              "    <tr>\n",
              "        <td>99</td>\n",
              "    </tr>\n",
              "</table>"
            ],
            "text/plain": [
              "[(99,)]"
            ]
          },
          "metadata": {
            "tags": []
          },
          "execution_count": 16
        }
      ]
    },
    {
      "cell_type": "markdown",
      "metadata": {
        "id": "5H7qj93bMgh3"
      },
      "source": [
        "### Problem 3\n",
        "\n",
        "##### Which schools have highest Safety Score?\n"
      ]
    },
    {
      "cell_type": "code",
      "metadata": {
        "id": "Y_iOoyQtMgh6",
        "outputId": "956b066f-3e3d-4348-b266-fb514f525ecc",
        "colab": {
          "base_uri": "https://localhost:8080/",
          "height": 515
        }
      },
      "source": [
        "%sql SELECT \"School_ID\", NAME_OF_SCHOOL, SAFETY_SCORE FROM CHICAGO_PUBLIC_SCHOOLS \\\n",
        "   WHERE SAFETY_SCORE IS NOT NULL ORDER BY SAFETY_SCORE DESC LIMIT 25;"
      ],
      "execution_count": 34,
      "outputs": [
        {
          "output_type": "stream",
          "text": [
            " * ibm_db_sa://bxd83998:***@dashdb-txn-sbox-yp-dal09-08.services.dal.bluemix.net:50000/BLUDB\n",
            "Done.\n"
          ],
          "name": "stdout"
        },
        {
          "output_type": "execute_result",
          "data": {
            "text/html": [
              "<table>\n",
              "    <tr>\n",
              "        <th>School_ID</th>\n",
              "        <th>name_of_school</th>\n",
              "        <th>safety_score</th>\n",
              "    </tr>\n",
              "    <tr>\n",
              "        <td>610038</td>\n",
              "        <td>Abraham Lincoln Elementary School</td>\n",
              "        <td>99</td>\n",
              "    </tr>\n",
              "    <tr>\n",
              "        <td>610230</td>\n",
              "        <td>Wildwood Elementary School</td>\n",
              "        <td>99</td>\n",
              "    </tr>\n",
              "    <tr>\n",
              "        <td>610249</td>\n",
              "        <td>Talman Elementary School</td>\n",
              "        <td>99</td>\n",
              "    </tr>\n",
              "    <tr>\n",
              "        <td>609880</td>\n",
              "        <td>Stephen Decatur Classical Elementary School</td>\n",
              "        <td>99</td>\n",
              "    </tr>\n",
              "    <tr>\n",
              "        <td>610155</td>\n",
              "        <td>Sauganash Elementary School</td>\n",
              "        <td>99</td>\n",
              "    </tr>\n",
              "    <tr>\n",
              "        <td>610105</td>\n",
              "        <td>Oriole Park Elementary School</td>\n",
              "        <td>99</td>\n",
              "    </tr>\n",
              "    <tr>\n",
              "        <td>610099</td>\n",
              "        <td>Norwood Park Elementary School</td>\n",
              "        <td>99</td>\n",
              "    </tr>\n",
              "    <tr>\n",
              "        <td>609744</td>\n",
              "        <td>Northside Learning Center High School</td>\n",
              "        <td>99</td>\n",
              "    </tr>\n",
              "    <tr>\n",
              "        <td>609749</td>\n",
              "        <td>Northside College Preparatory High School</td>\n",
              "        <td>99</td>\n",
              "    </tr>\n",
              "    <tr>\n",
              "        <td>610355</td>\n",
              "        <td>Mary E Courtenay Elementary Language Arts Center</td>\n",
              "        <td>99</td>\n",
              "    </tr>\n",
              "    <tr>\n",
              "        <td>610033</td>\n",
              "        <td>LaSalle Elementary Language Academy</td>\n",
              "        <td>99</td>\n",
              "    </tr>\n",
              "    <tr>\n",
              "        <td>609803</td>\n",
              "        <td>James G Blaine Elementary School</td>\n",
              "        <td>99</td>\n",
              "    </tr>\n",
              "    <tr>\n",
              "        <td>610066</td>\n",
              "        <td>James E McDade Elementary Classical School</td>\n",
              "        <td>99</td>\n",
              "    </tr>\n",
              "    <tr>\n",
              "        <td>610073</td>\n",
              "        <td>Ellen Mitchell Elementary School</td>\n",
              "        <td>99</td>\n",
              "    </tr>\n",
              "    <tr>\n",
              "        <td>609901</td>\n",
              "        <td>Edgebrook Elementary School</td>\n",
              "        <td>99</td>\n",
              "    </tr>\n",
              "    <tr>\n",
              "        <td>610132</td>\n",
              "        <td>Edgar Allan Poe Elementary Classical School</td>\n",
              "        <td>99</td>\n",
              "    </tr>\n",
              "    <tr>\n",
              "        <td>609820</td>\n",
              "        <td>Augustus H Burley Elementary School</td>\n",
              "        <td>99</td>\n",
              "    </tr>\n",
              "    <tr>\n",
              "        <td>610084</td>\n",
              "        <td>Annie Keller Elementary Gifted Magnet School</td>\n",
              "        <td>99</td>\n",
              "    </tr>\n",
              "    <tr>\n",
              "        <td>609799</td>\n",
              "        <td>Alexander Graham Bell Elementary School</td>\n",
              "        <td>99</td>\n",
              "    </tr>\n",
              "    <tr>\n",
              "        <td>609680</td>\n",
              "        <td>Walter Payton College Preparatory High School</td>\n",
              "        <td>98</td>\n",
              "    </tr>\n",
              "    <tr>\n",
              "        <td>610523</td>\n",
              "        <td>Edison Park Elementary School</td>\n",
              "        <td>95</td>\n",
              "    </tr>\n",
              "    <tr>\n",
              "        <td>609755</td>\n",
              "        <td>Whitney M Young Magnet High School</td>\n",
              "        <td>95</td>\n",
              "    </tr>\n",
              "    <tr>\n",
              "        <td>609782</td>\n",
              "        <td>John J Audubon Elementary School</td>\n",
              "        <td>95</td>\n",
              "    </tr>\n",
              "    <tr>\n",
              "        <td>609974</td>\n",
              "        <td>Hawthorne Elementary Scholastic Academy</td>\n",
              "        <td>92</td>\n",
              "    </tr>\n",
              "    <tr>\n",
              "        <td>609678</td>\n",
              "        <td>William Jones College Preparatory High School</td>\n",
              "        <td>92</td>\n",
              "    </tr>\n",
              "</table>"
            ],
            "text/plain": [
              "[(610038, 'Abraham Lincoln Elementary School', 99),\n",
              " (610230, 'Wildwood Elementary School', 99),\n",
              " (610249, 'Talman Elementary School', 99),\n",
              " (609880, 'Stephen Decatur Classical Elementary School', 99),\n",
              " (610155, 'Sauganash Elementary School', 99),\n",
              " (610105, 'Oriole Park Elementary School', 99),\n",
              " (610099, 'Norwood Park Elementary School', 99),\n",
              " (609744, 'Northside Learning Center High School', 99),\n",
              " (609749, 'Northside College Preparatory High School', 99),\n",
              " (610355, 'Mary E Courtenay Elementary Language Arts Center', 99),\n",
              " (610033, 'LaSalle Elementary Language Academy', 99),\n",
              " (609803, 'James G Blaine Elementary School', 99),\n",
              " (610066, 'James E McDade Elementary Classical School', 99),\n",
              " (610073, 'Ellen Mitchell Elementary School', 99),\n",
              " (609901, 'Edgebrook Elementary School', 99),\n",
              " (610132, 'Edgar Allan Poe Elementary Classical School', 99),\n",
              " (609820, 'Augustus H Burley Elementary School', 99),\n",
              " (610084, 'Annie Keller Elementary Gifted Magnet School', 99),\n",
              " (609799, 'Alexander Graham Bell Elementary School', 99),\n",
              " (609680, 'Walter Payton College Preparatory High School', 98),\n",
              " (610523, 'Edison Park Elementary School', 95),\n",
              " (609755, 'Whitney M Young Magnet High School', 95),\n",
              " (609782, 'John J Audubon Elementary School', 95),\n",
              " (609974, 'Hawthorne Elementary Scholastic Academy', 92),\n",
              " (609678, 'William Jones College Preparatory High School', 92)]"
            ]
          },
          "metadata": {
            "tags": []
          },
          "execution_count": 34
        }
      ]
    },
    {
      "cell_type": "markdown",
      "metadata": {
        "id": "gj7R0a8HMgiA"
      },
      "source": [
        "### Problem 4\n",
        "\n",
        "##### What are the top 10 schools with the highest \"Average Student Attendance\"?\n"
      ]
    },
    {
      "cell_type": "code",
      "metadata": {
        "id": "iacFoP40MgiB",
        "outputId": "7dc36be0-209f-40ce-a5ee-a67608c72d89",
        "colab": {
          "base_uri": "https://localhost:8080/",
          "height": 248
        }
      },
      "source": [
        "%sql SELECT \"School_ID\", NAME_OF_SCHOOL, AVERAGE_STUDENT_ATTENDANCE FROM CHICAGO_PUBLIC_SCHOOLS  \\\n",
        "   ORDER BY AVERAGE_STUDENT_ATTENDANCE DESC NULLS LAST LIMIT 10;"
      ],
      "execution_count": 33,
      "outputs": [
        {
          "output_type": "stream",
          "text": [
            " * ibm_db_sa://bxd83998:***@dashdb-txn-sbox-yp-dal09-08.services.dal.bluemix.net:50000/BLUDB\n",
            "Done.\n"
          ],
          "name": "stdout"
        },
        {
          "output_type": "execute_result",
          "data": {
            "text/html": [
              "<table>\n",
              "    <tr>\n",
              "        <th>School_ID</th>\n",
              "        <th>name_of_school</th>\n",
              "        <th>average_student_attendance</th>\n",
              "    </tr>\n",
              "    <tr>\n",
              "        <td>609959</td>\n",
              "        <td>John Charles Haines Elementary School</td>\n",
              "        <td>98.40%</td>\n",
              "    </tr>\n",
              "    <tr>\n",
              "        <td>610217</td>\n",
              "        <td>James Ward Elementary School</td>\n",
              "        <td>97.80%</td>\n",
              "    </tr>\n",
              "    <tr>\n",
              "        <td>610132</td>\n",
              "        <td>Edgar Allan Poe Elementary Classical School</td>\n",
              "        <td>97.60%</td>\n",
              "    </tr>\n",
              "    <tr>\n",
              "        <td>610329</td>\n",
              "        <td>Orozco Fine Arts &amp; Sciences Elementary School</td>\n",
              "        <td>97.60%</td>\n",
              "    </tr>\n",
              "    <tr>\n",
              "        <td>609842</td>\n",
              "        <td>Rachel Carson Elementary School</td>\n",
              "        <td>97.60%</td>\n",
              "    </tr>\n",
              "    <tr>\n",
              "        <td>610084</td>\n",
              "        <td>Annie Keller Elementary Gifted Magnet School</td>\n",
              "        <td>97.50%</td>\n",
              "    </tr>\n",
              "    <tr>\n",
              "        <td>610060</td>\n",
              "        <td>Andrew Jackson Elementary Language Academy</td>\n",
              "        <td>97.40%</td>\n",
              "    </tr>\n",
              "    <tr>\n",
              "        <td>610298</td>\n",
              "        <td>Lenart Elementary Regional Gifted Center</td>\n",
              "        <td>97.40%</td>\n",
              "    </tr>\n",
              "    <tr>\n",
              "        <td>610515</td>\n",
              "        <td>Disney II Magnet School</td>\n",
              "        <td>97.30%</td>\n",
              "    </tr>\n",
              "    <tr>\n",
              "        <td>610207</td>\n",
              "        <td>John H Vanderpoel Elementary Magnet School</td>\n",
              "        <td>97.20%</td>\n",
              "    </tr>\n",
              "</table>"
            ],
            "text/plain": [
              "[(609959, 'John Charles Haines Elementary School', '98.40%'),\n",
              " (610217, 'James Ward Elementary School', '97.80%'),\n",
              " (610132, 'Edgar Allan Poe Elementary Classical School', '97.60%'),\n",
              " (610329, 'Orozco Fine Arts & Sciences Elementary School', '97.60%'),\n",
              " (609842, 'Rachel Carson Elementary School', '97.60%'),\n",
              " (610084, 'Annie Keller Elementary Gifted Magnet School', '97.50%'),\n",
              " (610060, 'Andrew Jackson Elementary Language Academy', '97.40%'),\n",
              " (610298, 'Lenart Elementary Regional Gifted Center', '97.40%'),\n",
              " (610515, 'Disney II Magnet School', '97.30%'),\n",
              " (610207, 'John H Vanderpoel Elementary Magnet School', '97.20%')]"
            ]
          },
          "metadata": {
            "tags": []
          },
          "execution_count": 33
        }
      ]
    },
    {
      "cell_type": "markdown",
      "metadata": {
        "id": "_Z0FebpqMgiK"
      },
      "source": [
        "### Problem 5\n",
        "\n",
        "##### Retrieve the list of 5 Schools with the lowest Average Student Attendance sorted in ascending order based on attendance\n"
      ]
    },
    {
      "cell_type": "code",
      "metadata": {
        "id": "cwSnBq-mMgiL",
        "outputId": "522e7ab6-c9ed-47a1-e7f6-8974d209935e",
        "colab": {
          "base_uri": "https://localhost:8080/",
          "height": 160
        }
      },
      "source": [
        "%sql SELECT \"School_ID\", NAME_OF_SCHOOL, AVERAGE_STUDENT_ATTENDANCE \\\n",
        "    FROM CHICAGO_PUBLIC_SCHOOLS \\\n",
        "    ORDER BY AVERAGE_STUDENT_ATTENDANCE NULLS LAST \\\n",
        "    FETCH FIRST 5 ROWS ONLY;"
      ],
      "execution_count": 46,
      "outputs": [
        {
          "output_type": "stream",
          "text": [
            " * ibm_db_sa://bxd83998:***@dashdb-txn-sbox-yp-dal09-08.services.dal.bluemix.net:50000/BLUDB\n",
            "Done.\n"
          ],
          "name": "stdout"
        },
        {
          "output_type": "execute_result",
          "data": {
            "text/html": [
              "<table>\n",
              "    <tr>\n",
              "        <th>School_ID</th>\n",
              "        <th>name_of_school</th>\n",
              "        <th>average_student_attendance</th>\n",
              "    </tr>\n",
              "    <tr>\n",
              "        <td>609702</td>\n",
              "        <td>Richard T Crane Technical Preparatory High School</td>\n",
              "        <td>57.90%</td>\n",
              "    </tr>\n",
              "    <tr>\n",
              "        <td>609871</td>\n",
              "        <td>Barbara Vick Early Childhood &amp; Family Center</td>\n",
              "        <td>60.90%</td>\n",
              "    </tr>\n",
              "    <tr>\n",
              "        <td>609736</td>\n",
              "        <td>Dyett High School</td>\n",
              "        <td>62.50%</td>\n",
              "    </tr>\n",
              "    <tr>\n",
              "        <td>609727</td>\n",
              "        <td>Wendell Phillips Academy High School</td>\n",
              "        <td>63.00%</td>\n",
              "    </tr>\n",
              "    <tr>\n",
              "        <td>610389</td>\n",
              "        <td>Orr Academy High School</td>\n",
              "        <td>66.30%</td>\n",
              "    </tr>\n",
              "</table>"
            ],
            "text/plain": [
              "[(609702, 'Richard T Crane Technical Preparatory High School', '57.90%'),\n",
              " (609871, 'Barbara Vick Early Childhood & Family Center', '60.90%'),\n",
              " (609736, 'Dyett High School', '62.50%'),\n",
              " (609727, 'Wendell Phillips Academy High School', '63.00%'),\n",
              " (610389, 'Orr Academy High School', '66.30%')]"
            ]
          },
          "metadata": {
            "tags": []
          },
          "execution_count": 46
        }
      ]
    },
    {
      "cell_type": "markdown",
      "metadata": {
        "id": "Zc1cLA_QMgiS"
      },
      "source": [
        "### Problem 6\n",
        "\n",
        "##### Now remove the '%' sign from the above result set for Average Student Attendance column\n"
      ]
    },
    {
      "cell_type": "code",
      "metadata": {
        "id": "_EeTh9fXMgiT",
        "outputId": "32e0e54c-84dd-4249-8533-cb4754f1f472",
        "colab": {
          "base_uri": "https://localhost:8080/",
          "height": 160
        }
      },
      "source": [
        "%sql SELECT \"School_ID\", NAME_OF_SCHOOL, REPLACE(Average_Student_Attendance, '%', '') \\\n",
        "    FROM CHICAGO_PUBLIC_SCHOOLS \\\n",
        "    ORDER BY AVERAGE_STUDENT_ATTENDANCE NULLS LAST \\\n",
        "    FETCH FIRST 5 ROWS ONLY;"
      ],
      "execution_count": 51,
      "outputs": [
        {
          "output_type": "stream",
          "text": [
            " * ibm_db_sa://bxd83998:***@dashdb-txn-sbox-yp-dal09-08.services.dal.bluemix.net:50000/BLUDB\n",
            "Done.\n"
          ],
          "name": "stdout"
        },
        {
          "output_type": "execute_result",
          "data": {
            "text/html": [
              "<table>\n",
              "    <tr>\n",
              "        <th>School_ID</th>\n",
              "        <th>name_of_school</th>\n",
              "        <th>3</th>\n",
              "    </tr>\n",
              "    <tr>\n",
              "        <td>609702</td>\n",
              "        <td>Richard T Crane Technical Preparatory High School</td>\n",
              "        <td>57.90</td>\n",
              "    </tr>\n",
              "    <tr>\n",
              "        <td>609871</td>\n",
              "        <td>Barbara Vick Early Childhood &amp; Family Center</td>\n",
              "        <td>60.90</td>\n",
              "    </tr>\n",
              "    <tr>\n",
              "        <td>609736</td>\n",
              "        <td>Dyett High School</td>\n",
              "        <td>62.50</td>\n",
              "    </tr>\n",
              "    <tr>\n",
              "        <td>609727</td>\n",
              "        <td>Wendell Phillips Academy High School</td>\n",
              "        <td>63.00</td>\n",
              "    </tr>\n",
              "    <tr>\n",
              "        <td>610389</td>\n",
              "        <td>Orr Academy High School</td>\n",
              "        <td>66.30</td>\n",
              "    </tr>\n",
              "</table>"
            ],
            "text/plain": [
              "[(609702, 'Richard T Crane Technical Preparatory High School', '57.90'),\n",
              " (609871, 'Barbara Vick Early Childhood & Family Center', '60.90'),\n",
              " (609736, 'Dyett High School', '62.50'),\n",
              " (609727, 'Wendell Phillips Academy High School', '63.00'),\n",
              " (610389, 'Orr Academy High School', '66.30')]"
            ]
          },
          "metadata": {
            "tags": []
          },
          "execution_count": 51
        }
      ]
    },
    {
      "cell_type": "markdown",
      "metadata": {
        "id": "loY8AwORMgij"
      },
      "source": [
        "### Problem 7\n",
        "\n",
        "##### Which Schools have Average Student Attendance lower than 70%?\n"
      ]
    },
    {
      "cell_type": "code",
      "metadata": {
        "id": "R2IH6MNmMgik",
        "outputId": "cb757f4f-3092-4cd4-e514-f7371142c1b2",
        "colab": {
          "base_uri": "https://localhost:8080/",
          "height": 160
        }
      },
      "source": [
        "%sql SELECT \"School_ID\", NAME_OF_SCHOOL, AVERAGE_STUDENT_ATTENDANCE \\\n",
        "    FROM CHICAGO_PUBLIC_SCHOOLS \\\n",
        "    WHERE AVERAGE_STUDENT_ATTENDANCE < '70%' \\\n",
        "    ORDER BY AVERAGE_STUDENT_ATTENDANCE DESC NULLS LAST \\\n",
        "    FETCH FIRST 5 ROWS ONLY;"
      ],
      "execution_count": 49,
      "outputs": [
        {
          "output_type": "stream",
          "text": [
            " * ibm_db_sa://bxd83998:***@dashdb-txn-sbox-yp-dal09-08.services.dal.bluemix.net:50000/BLUDB\n",
            "Done.\n"
          ],
          "name": "stdout"
        },
        {
          "output_type": "execute_result",
          "data": {
            "text/html": [
              "<table>\n",
              "    <tr>\n",
              "        <th>School_ID</th>\n",
              "        <th>name_of_school</th>\n",
              "        <th>average_student_attendance</th>\n",
              "    </tr>\n",
              "    <tr>\n",
              "        <td>609759</td>\n",
              "        <td>Roberto Clemente Community Academy High School</td>\n",
              "        <td>69.60%</td>\n",
              "    </tr>\n",
              "    <tr>\n",
              "        <td>609674</td>\n",
              "        <td>Chicago Vocational Career Academy High School</td>\n",
              "        <td>68.80%</td>\n",
              "    </tr>\n",
              "    <tr>\n",
              "        <td>609722</td>\n",
              "        <td>Manley Career Academy High School</td>\n",
              "        <td>66.80%</td>\n",
              "    </tr>\n",
              "    <tr>\n",
              "        <td>610389</td>\n",
              "        <td>Orr Academy High School</td>\n",
              "        <td>66.30%</td>\n",
              "    </tr>\n",
              "    <tr>\n",
              "        <td>609727</td>\n",
              "        <td>Wendell Phillips Academy High School</td>\n",
              "        <td>63.00%</td>\n",
              "    </tr>\n",
              "</table>"
            ],
            "text/plain": [
              "[(609759, 'Roberto Clemente Community Academy High School', '69.60%'),\n",
              " (609674, 'Chicago Vocational Career Academy High School', '68.80%'),\n",
              " (609722, 'Manley Career Academy High School', '66.80%'),\n",
              " (610389, 'Orr Academy High School', '66.30%'),\n",
              " (609727, 'Wendell Phillips Academy High School', '63.00%')]"
            ]
          },
          "metadata": {
            "tags": []
          },
          "execution_count": 49
        }
      ]
    },
    {
      "cell_type": "code",
      "metadata": {
        "id": "IBtw48RSr35-",
        "outputId": "04643820-569e-4d8d-fb0c-e758f270e4ff",
        "colab": {
          "base_uri": "https://localhost:8080/",
          "height": 213
        }
      },
      "source": [
        "%sql SELECT Name_of_School, Average_Student_Attendance  \\\n",
        "     from CHICAGO_PUBLIC_SCHOOLS \\\n",
        "     where CAST(REPLACE(Average_Student_Attendance, '%', '') AS DOUBLE ) < 70 \\\n",
        "     order by Average_Student_Attendance\n",
        "     "
      ],
      "execution_count": 56,
      "outputs": [
        {
          "output_type": "stream",
          "text": [
            " * ibm_db_sa://bxd83998:***@dashdb-txn-sbox-yp-dal09-08.services.dal.bluemix.net:50000/BLUDB\n",
            "Done.\n"
          ],
          "name": "stdout"
        },
        {
          "output_type": "execute_result",
          "data": {
            "text/html": [
              "<table>\n",
              "    <tr>\n",
              "        <th>name_of_school</th>\n",
              "        <th>average_student_attendance</th>\n",
              "    </tr>\n",
              "    <tr>\n",
              "        <td>Richard T Crane Technical Preparatory High School</td>\n",
              "        <td>57.90%</td>\n",
              "    </tr>\n",
              "    <tr>\n",
              "        <td>Barbara Vick Early Childhood &amp; Family Center</td>\n",
              "        <td>60.90%</td>\n",
              "    </tr>\n",
              "    <tr>\n",
              "        <td>Dyett High School</td>\n",
              "        <td>62.50%</td>\n",
              "    </tr>\n",
              "    <tr>\n",
              "        <td>Wendell Phillips Academy High School</td>\n",
              "        <td>63.00%</td>\n",
              "    </tr>\n",
              "    <tr>\n",
              "        <td>Orr Academy High School</td>\n",
              "        <td>66.30%</td>\n",
              "    </tr>\n",
              "    <tr>\n",
              "        <td>Manley Career Academy High School</td>\n",
              "        <td>66.80%</td>\n",
              "    </tr>\n",
              "    <tr>\n",
              "        <td>Chicago Vocational Career Academy High School</td>\n",
              "        <td>68.80%</td>\n",
              "    </tr>\n",
              "    <tr>\n",
              "        <td>Roberto Clemente Community Academy High School</td>\n",
              "        <td>69.60%</td>\n",
              "    </tr>\n",
              "</table>"
            ],
            "text/plain": [
              "[('Richard T Crane Technical Preparatory High School', '57.90%'),\n",
              " ('Barbara Vick Early Childhood & Family Center', '60.90%'),\n",
              " ('Dyett High School', '62.50%'),\n",
              " ('Wendell Phillips Academy High School', '63.00%'),\n",
              " ('Orr Academy High School', '66.30%'),\n",
              " ('Manley Career Academy High School', '66.80%'),\n",
              " ('Chicago Vocational Career Academy High School', '68.80%'),\n",
              " ('Roberto Clemente Community Academy High School', '69.60%')]"
            ]
          },
          "metadata": {
            "tags": []
          },
          "execution_count": 56
        }
      ]
    },
    {
      "cell_type": "code",
      "metadata": {
        "id": "LbNsMVcpr54E",
        "outputId": "f51ac7c6-56df-4bfb-9717-8d9c249cb747",
        "colab": {
          "base_uri": "https://localhost:8080/",
          "height": 213
        }
      },
      "source": [
        "%sql SELECT Name_of_School, Average_Student_Attendance  \\\n",
        "     from CHICAGO_PUBLIC_SCHOOLS \\\n",
        "     where DECIMAL(REPLACE(Average_Student_Attendance, '%', '')) < 70 \\\n",
        "     order by Average_Student_Attendance\n"
      ],
      "execution_count": 55,
      "outputs": [
        {
          "output_type": "stream",
          "text": [
            " * ibm_db_sa://bxd83998:***@dashdb-txn-sbox-yp-dal09-08.services.dal.bluemix.net:50000/BLUDB\n",
            "Done.\n"
          ],
          "name": "stdout"
        },
        {
          "output_type": "execute_result",
          "data": {
            "text/html": [
              "<table>\n",
              "    <tr>\n",
              "        <th>name_of_school</th>\n",
              "        <th>average_student_attendance</th>\n",
              "    </tr>\n",
              "    <tr>\n",
              "        <td>Richard T Crane Technical Preparatory High School</td>\n",
              "        <td>57.90%</td>\n",
              "    </tr>\n",
              "    <tr>\n",
              "        <td>Barbara Vick Early Childhood &amp; Family Center</td>\n",
              "        <td>60.90%</td>\n",
              "    </tr>\n",
              "    <tr>\n",
              "        <td>Dyett High School</td>\n",
              "        <td>62.50%</td>\n",
              "    </tr>\n",
              "    <tr>\n",
              "        <td>Wendell Phillips Academy High School</td>\n",
              "        <td>63.00%</td>\n",
              "    </tr>\n",
              "    <tr>\n",
              "        <td>Orr Academy High School</td>\n",
              "        <td>66.30%</td>\n",
              "    </tr>\n",
              "    <tr>\n",
              "        <td>Manley Career Academy High School</td>\n",
              "        <td>66.80%</td>\n",
              "    </tr>\n",
              "    <tr>\n",
              "        <td>Chicago Vocational Career Academy High School</td>\n",
              "        <td>68.80%</td>\n",
              "    </tr>\n",
              "    <tr>\n",
              "        <td>Roberto Clemente Community Academy High School</td>\n",
              "        <td>69.60%</td>\n",
              "    </tr>\n",
              "</table>"
            ],
            "text/plain": [
              "[('Richard T Crane Technical Preparatory High School', '57.90%'),\n",
              " ('Barbara Vick Early Childhood & Family Center', '60.90%'),\n",
              " ('Dyett High School', '62.50%'),\n",
              " ('Wendell Phillips Academy High School', '63.00%'),\n",
              " ('Orr Academy High School', '66.30%'),\n",
              " ('Manley Career Academy High School', '66.80%'),\n",
              " ('Chicago Vocational Career Academy High School', '68.80%'),\n",
              " ('Roberto Clemente Community Academy High School', '69.60%')]"
            ]
          },
          "metadata": {
            "tags": []
          },
          "execution_count": 55
        }
      ]
    },
    {
      "cell_type": "markdown",
      "metadata": {
        "id": "FJV5OtHqMgi4"
      },
      "source": [
        "### Problem 8\n",
        "\n",
        "##### Get the total College Enrollment for each Community Area\n"
      ]
    },
    {
      "cell_type": "code",
      "metadata": {
        "id": "Pq-EGNJqMgi5",
        "outputId": "d808f960-975d-4c6c-a3c0-c843c786f4ea",
        "colab": {
          "base_uri": "https://localhost:8080/",
          "height": 160
        }
      },
      "source": [
        "%sql SELECT COMMUNITY_AREA_NAME, SUM(COLLEGE_ENROLLMENT) AS COLLEGE_ENROLLMENT_COUNT \\\n",
        "  FROM CHICAGO_PUBLIC_SCHOOLS \\\n",
        "  GROUP BY COMMUNITY_AREA_NAME \\\n",
        "  FETCH FIRST 5 ROWS ONLY;"
      ],
      "execution_count": 64,
      "outputs": [
        {
          "output_type": "stream",
          "text": [
            " * ibm_db_sa://bxd83998:***@dashdb-txn-sbox-yp-dal09-08.services.dal.bluemix.net:50000/BLUDB\n",
            "Done.\n"
          ],
          "name": "stdout"
        },
        {
          "output_type": "execute_result",
          "data": {
            "text/html": [
              "<table>\n",
              "    <tr>\n",
              "        <th>community_area_name</th>\n",
              "        <th>college_enrollment_count</th>\n",
              "    </tr>\n",
              "    <tr>\n",
              "        <td>ALBANY PARK</td>\n",
              "        <td>6864</td>\n",
              "    </tr>\n",
              "    <tr>\n",
              "        <td>ARCHER HEIGHTS</td>\n",
              "        <td>4823</td>\n",
              "    </tr>\n",
              "    <tr>\n",
              "        <td>ARMOUR SQUARE</td>\n",
              "        <td>1458</td>\n",
              "    </tr>\n",
              "    <tr>\n",
              "        <td>ASHBURN</td>\n",
              "        <td>6483</td>\n",
              "    </tr>\n",
              "    <tr>\n",
              "        <td>AUBURN GRESHAM</td>\n",
              "        <td>4175</td>\n",
              "    </tr>\n",
              "</table>"
            ],
            "text/plain": [
              "[('ALBANY PARK', 6864),\n",
              " ('ARCHER HEIGHTS', 4823),\n",
              " ('ARMOUR SQUARE', 1458),\n",
              " ('ASHBURN', 6483),\n",
              " ('AUBURN GRESHAM', 4175)]"
            ]
          },
          "metadata": {
            "tags": []
          },
          "execution_count": 64
        }
      ]
    },
    {
      "cell_type": "markdown",
      "metadata": {
        "id": "udD79lEAMgjK"
      },
      "source": [
        "### Problem 9\n",
        "\n",
        "##### Get the 5 Community Areas with the least total College Enrollment  sorted in ascending order\n"
      ]
    },
    {
      "cell_type": "code",
      "metadata": {
        "id": "tJlvY0PoMgjL",
        "outputId": "3b37f89a-0e29-49cc-ba80-54852c5f22bb",
        "colab": {
          "base_uri": "https://localhost:8080/",
          "height": 160
        }
      },
      "source": [
        "%sql SELECT COMMUNITY_AREA_NAME, SUM(COLLEGE_ENROLLMENT) AS COLLEGE_ENROLLMENT_COUNT \\\n",
        "  FROM CHICAGO_PUBLIC_SCHOOLS \\\n",
        "  GROUP BY COMMUNITY_AREA_NAME \\\n",
        "  ORDER BY college_enrollment_count DESC \\\n",
        "  FETCH FIRST 5 ROWS ONLY;"
      ],
      "execution_count": 75,
      "outputs": [
        {
          "output_type": "stream",
          "text": [
            " * ibm_db_sa://bxd83998:***@dashdb-txn-sbox-yp-dal09-08.services.dal.bluemix.net:50000/BLUDB\n",
            "Done.\n"
          ],
          "name": "stdout"
        },
        {
          "output_type": "execute_result",
          "data": {
            "text/html": [
              "<table>\n",
              "    <tr>\n",
              "        <th>community_area_name</th>\n",
              "        <th>college_enrollment_count</th>\n",
              "    </tr>\n",
              "    <tr>\n",
              "        <td>SOUTH LAWNDALE</td>\n",
              "        <td>14793</td>\n",
              "    </tr>\n",
              "    <tr>\n",
              "        <td>BELMONT CRAGIN</td>\n",
              "        <td>14386</td>\n",
              "    </tr>\n",
              "    <tr>\n",
              "        <td>AUSTIN</td>\n",
              "        <td>10933</td>\n",
              "    </tr>\n",
              "    <tr>\n",
              "        <td>GAGE PARK</td>\n",
              "        <td>9915</td>\n",
              "    </tr>\n",
              "    <tr>\n",
              "        <td>BRIGHTON PARK</td>\n",
              "        <td>9647</td>\n",
              "    </tr>\n",
              "</table>"
            ],
            "text/plain": [
              "[('SOUTH LAWNDALE', 14793),\n",
              " ('BELMONT CRAGIN', 14386),\n",
              " ('AUSTIN', 10933),\n",
              " ('GAGE PARK', 9915),\n",
              " ('BRIGHTON PARK', 9647)]"
            ]
          },
          "metadata": {
            "tags": []
          },
          "execution_count": 75
        }
      ]
    },
    {
      "cell_type": "markdown",
      "metadata": {
        "id": "TjWKDsd7MgkM"
      },
      "source": [
        "### Problem 10\n",
        "\n",
        "##### Get the hardship index for the community area which has College Enrollment of 4368\n"
      ]
    },
    {
      "cell_type": "code",
      "metadata": {
        "id": "PoL4HEGlMgkQ",
        "outputId": "0b912483-8d78-4653-882b-ee8cd1e86f9f",
        "colab": {
          "base_uri": "https://localhost:8080/",
          "height": 71
        }
      },
      "source": [
        "%%sql \n",
        "SELECT COMMUNITY_AREA_NAME, SUM(COLLEGE_ENROLLMENT) AS COLLEGE_ENROLLMENT_COUNT\n",
        "  FROM CHICAGO_PUBLIC_SCHOOLS \n",
        "  GROUP BY COMMUNITY_AREA_NAME\n",
        "  HAVING SUM(COLLEGE_ENROLLMENT) = 4360 \n"
      ],
      "execution_count": 85,
      "outputs": [
        {
          "output_type": "stream",
          "text": [
            " * ibm_db_sa://bxd83998:***@dashdb-txn-sbox-yp-dal09-08.services.dal.bluemix.net:50000/BLUDB\n",
            "Done.\n"
          ],
          "name": "stdout"
        },
        {
          "output_type": "execute_result",
          "data": {
            "text/html": [
              "<table>\n",
              "    <tr>\n",
              "        <th>community_area_name</th>\n",
              "        <th>college_enrollment_count</th>\n",
              "    </tr>\n",
              "</table>"
            ],
            "text/plain": [
              "[]"
            ]
          },
          "metadata": {
            "tags": []
          },
          "execution_count": 85
        }
      ]
    },
    {
      "cell_type": "code",
      "metadata": {
        "id": "EwuUC1tY2yvf",
        "outputId": "f0b4ea67-ca50-4afb-9997-f6d540d36e95",
        "colab": {
          "base_uri": "https://localhost:8080/",
          "height": 88
        }
      },
      "source": [
        "%%sql \n",
        "select hardship_index \n",
        "   from chicago_socioeconomic_data CD, CHICAGO_PUBLIC_SCHOOLS CPS \n",
        "   where CD.ca = CPS.community_area_number \n",
        "      and college_enrollment = 4368\n"
      ],
      "execution_count": 69,
      "outputs": [
        {
          "output_type": "stream",
          "text": [
            " * ibm_db_sa://bxd83998:***@dashdb-txn-sbox-yp-dal09-08.services.dal.bluemix.net:50000/BLUDB\n",
            "Done.\n"
          ],
          "name": "stdout"
        },
        {
          "output_type": "execute_result",
          "data": {
            "text/html": [
              "<table>\n",
              "    <tr>\n",
              "        <th>hardship_index</th>\n",
              "    </tr>\n",
              "    <tr>\n",
              "        <td>6.0</td>\n",
              "    </tr>\n",
              "</table>"
            ],
            "text/plain": [
              "[(6.0,)]"
            ]
          },
          "metadata": {
            "tags": []
          },
          "execution_count": 69
        }
      ]
    },
    {
      "cell_type": "markdown",
      "metadata": {
        "id": "aWVzHoitMgkj"
      },
      "source": [
        "### Problem 11\n",
        "\n",
        "##### Get the hardship index for the community area which has the highest value for College Enrollment\n"
      ]
    },
    {
      "cell_type": "code",
      "metadata": {
        "id": "3SFjpQw1Mgkk",
        "outputId": "cea796fc-f15c-4fbc-81e9-7320d2f762ec",
        "colab": {
          "base_uri": "https://localhost:8080/",
          "height": 160
        }
      },
      "source": [
        "%%sql\n",
        "SELECT COMMUNITY_AREA_NAME, ca, hardship_index\n",
        "  FROM chicago_socioeconomic_data\n",
        "  WHERE ca IN ( SELECT COMMUNITY_AREA_NUMBER FROM\n",
        "      (SELECT community_area_number, SUM(COLLEGE_ENROLLMENT) AS COLLEGE_ENROLLMENT_COUNT\n",
        "        FROM CHICAGO_PUBLIC_SCHOOLS\n",
        "        GROUP BY community_area_number\n",
        "        ORDER BY college_enrollment_count DESC\n",
        "        FETCH FIRST 5 ROWS ONLY)\n",
        "  );\n",
        "  "
      ],
      "execution_count": 106,
      "outputs": [
        {
          "output_type": "stream",
          "text": [
            " * ibm_db_sa://bxd83998:***@dashdb-txn-sbox-yp-dal09-08.services.dal.bluemix.net:50000/BLUDB\n",
            "Done.\n"
          ],
          "name": "stdout"
        },
        {
          "output_type": "execute_result",
          "data": {
            "text/html": [
              "<table>\n",
              "    <tr>\n",
              "        <th>community_area_name</th>\n",
              "        <th>ca</th>\n",
              "        <th>hardship_index</th>\n",
              "    </tr>\n",
              "    <tr>\n",
              "        <td>Belmont Cragin</td>\n",
              "        <td>19.0</td>\n",
              "        <td>70.0</td>\n",
              "    </tr>\n",
              "    <tr>\n",
              "        <td>Austin</td>\n",
              "        <td>25.0</td>\n",
              "        <td>73.0</td>\n",
              "    </tr>\n",
              "    <tr>\n",
              "        <td>South Lawndale</td>\n",
              "        <td>30.0</td>\n",
              "        <td>96.0</td>\n",
              "    </tr>\n",
              "    <tr>\n",
              "        <td>Brighton Park</td>\n",
              "        <td>58.0</td>\n",
              "        <td>84.0</td>\n",
              "    </tr>\n",
              "    <tr>\n",
              "        <td>Gage Park</td>\n",
              "        <td>63.0</td>\n",
              "        <td>93.0</td>\n",
              "    </tr>\n",
              "</table>"
            ],
            "text/plain": [
              "[('Belmont Cragin', 19.0, 70.0),\n",
              " ('Austin', 25.0, 73.0),\n",
              " ('South Lawndale', 30.0, 96.0),\n",
              " ('Brighton Park', 58.0, 84.0),\n",
              " ('Gage Park', 63.0, 93.0)]"
            ]
          },
          "metadata": {
            "tags": []
          },
          "execution_count": 106
        }
      ]
    },
    {
      "cell_type": "markdown",
      "metadata": {
        "id": "-4u_SsJiMgk4"
      },
      "source": [
        "Double-click **here** for the solution.\n",
        "\n",
        "<!-- Solution:\n",
        "NOTE: For this solution to work the CHICAGO_SOCIOECONOMIC_DATA table \n",
        "      as created in the last lab of Week 3 should already exist\n",
        "\n",
        "%sql select ca, community_area_name, hardship_index from chicago_socioeconomic_data \\\n",
        "   where ca in \\\n",
        "   ( select community_area_number from schools order by college_enrollment desc limit 1 )\n",
        "\n",
        "-->\n"
      ]
    },
    {
      "cell_type": "code",
      "metadata": {
        "id": "z0JbWbND_g3C",
        "outputId": "ccf6a79c-2de4-4e05-e4fa-ce584186b85e",
        "colab": {
          "base_uri": "https://localhost:8080/",
          "height": 160
        }
      },
      "source": [
        "%%sql \n",
        "SELECT CD.ca, MAX(hardship_index) AS hardship_index, SUM(SC.COLLEGE_ENROLLMENT) AS COLLEGE_ENROLLMENT_COUNT\n",
        "  FROM CHICAGO_PUBLIC_SCHOOLS SC, chicago_socioeconomic_data CD\n",
        "  WHERE CD.ca = SC.community_area_number\n",
        "  GROUP BY CD.ca\n",
        "  ORDER BY COLLEGE_ENROLLMENT_COUNT DESC\n",
        "  LIMIT 5;\n"
      ],
      "execution_count": 122,
      "outputs": [
        {
          "output_type": "stream",
          "text": [
            " * ibm_db_sa://bxd83998:***@dashdb-txn-sbox-yp-dal09-08.services.dal.bluemix.net:50000/BLUDB\n",
            "Done.\n"
          ],
          "name": "stdout"
        },
        {
          "output_type": "execute_result",
          "data": {
            "text/html": [
              "<table>\n",
              "    <tr>\n",
              "        <th>ca</th>\n",
              "        <th>hardship_index</th>\n",
              "        <th>college_enrollment_count</th>\n",
              "    </tr>\n",
              "    <tr>\n",
              "        <td>30.0</td>\n",
              "        <td>96.0</td>\n",
              "        <td>14793</td>\n",
              "    </tr>\n",
              "    <tr>\n",
              "        <td>19.0</td>\n",
              "        <td>70.0</td>\n",
              "        <td>14386</td>\n",
              "    </tr>\n",
              "    <tr>\n",
              "        <td>25.0</td>\n",
              "        <td>73.0</td>\n",
              "        <td>10933</td>\n",
              "    </tr>\n",
              "    <tr>\n",
              "        <td>63.0</td>\n",
              "        <td>93.0</td>\n",
              "        <td>9915</td>\n",
              "    </tr>\n",
              "    <tr>\n",
              "        <td>58.0</td>\n",
              "        <td>84.0</td>\n",
              "        <td>9647</td>\n",
              "    </tr>\n",
              "</table>"
            ],
            "text/plain": [
              "[(30.0, 96.0, 14793),\n",
              " (19.0, 70.0, 14386),\n",
              " (25.0, 73.0, 10933),\n",
              " (63.0, 93.0, 9915),\n",
              " (58.0, 84.0, 9647)]"
            ]
          },
          "metadata": {
            "tags": []
          },
          "execution_count": 122
        }
      ]
    },
    {
      "cell_type": "markdown",
      "metadata": {
        "id": "HF_qPdCeMgk5"
      },
      "source": [
        "## Summary\n",
        "\n",
        "##### In this lab you learned how to work with a real word dataset using SQL and Python. You learned how to query columns with spaces or special characters in their names and with mixed case names. You also used built in database functions and practiced how to sort, limit, and order result sets, as well as used sub-queries and worked with multiple tables.\n"
      ]
    },
    {
      "cell_type": "markdown",
      "metadata": {
        "id": "1dZH3p6sMgk-"
      },
      "source": [
        "## Author\n",
        "\n",
        "<a href=\"https://www.linkedin.com/in/ravahuja/\" target=\"_blank\">Rav Ahuja</a>\n",
        "\n",
        "## Change Log\n",
        "\n",
        "| Date (YYYY-MM-DD) | Version | Changed By | Change Description                 |\n",
        "| ----------------- | ------- | ---------- | ---------------------------------- |\n",
        "| 2020-08-28        | 2.0     | Lavanya    | Moved lab to course repo in GitLab |\n",
        "\n",
        "<hr>\n",
        "\n",
        "## <h3 align=\"center\"> © IBM Corporation 2020. All rights reserved. <h3/>\n"
      ]
    }
  ]
}